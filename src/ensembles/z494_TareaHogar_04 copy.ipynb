{
  "cells": [
    {
      "cell_type": "markdown",
      "metadata": {
        "id": "0cEmzeUKFkPh"
      },
      "source": [
        "# Tarea para el Hogar 04"
      ]
    },
    {
      "cell_type": "markdown",
      "metadata": {
        "id": "nSICPpyTGQmC"
      },
      "source": [
        "Esta Tarea para el Hogar 02 se entrega el final de la cuarta clase\n",
        "<br> se espera de usted que intente avanzar con los desafios propuestos y que los traiga terminados para la Clase 05 que será el miercoles 03 de septiembre"
      ]
    },
    {
      "cell_type": "markdown",
      "metadata": {
        "id": "DenyKXkiJ5JN"
      },
      "source": [
        "##  1. Overfitting the Public Leaderboard"
      ]
    },
    {
      "cell_type": "markdown",
      "metadata": {
        "id": "l-K2_ZsZGrVD"
      },
      "source": [
        "Leer  https://medium.com/hmif-itb/overfitting-the-leaderboard-da25172ac62e\n",
        "( 8 minutos )"
      ]
    },
    {
      "cell_type": "markdown",
      "metadata": {
        "id": "K9GkTOk5J9t3"
      },
      "source": [
        "## 2. Hiperparámetros del LightGBM"
      ]
    },
    {
      "cell_type": "markdown",
      "metadata": {
        "id": "VmEFy0ukKL5T"
      },
      "source": [
        "Los objetivos de esta tarea son:\n",
        "\n",
        "\n",
        "*   Aumentar la rentabilidad de la campaña de marketing de retención proactiva de clientes.\n",
        "*   Generar un mejor modelo optimizando sus hiperparámetros\n",
        "*   Conceptual : investigar los mas relevantes hiperparámetros de LightGBM\n",
        "*   Familiarizarse con la Bayesian Optimization, sus largos tiempos de corrida y opciones para reducirlos\n",
        "*   Familiarizarse con el uso de máquinas virtuales de Google Colab\n",
        "*   Ver un pipeline completo de optimización de hiperparámetros y puesta en producción"
      ]
    },
    {
      "cell_type": "markdown",
      "metadata": {
        "id": "5yvlS6JQLRMd"
      },
      "source": [
        "LightGBM cuenta con mas de 60 hiperparámetros, siendo posible utilizar 40 al mismo tiempo, aunque no razonable.\n",
        "<br> La documentación oficial de los hiperparámetros de LightGBM es  https://lightgbm.readthedocs.io/en/latest/Parameters.html#core-parameters\n"
      ]
    },
    {
      "cell_type": "markdown",
      "metadata": {
        "id": "eydI4YNAsFaf"
      },
      "source": [
        "Se lo alerta sobre que una Optimizacion Bayesiana lleva varias horas de corrida, y usted deberá correr VARIAS optimizaciones para descubrir cuales parámetros conviene optimizar.\n",
        "<br> A pesar que la próxima clase es recien en viernes 01 de agosto, inicie la tarea con tiempo, aprenda a planificar estratégicamente sus corridas como un@ científ@  de datos."
      ]
    },
    {
      "cell_type": "markdown",
      "metadata": {
        "id": "RzU4S0SeMcpp"
      },
      "source": [
        "Es necesario investigar cuales son los hiperparámetros de LightGBM que vale la pena optimizar en una Bayesian Optimization, ya que los realmente utiles son apenas un reducido subconjunto.\n",
        "<br>Usted deberá investigar cuales son los hiperparámetros mas relevantes de LightGBM, su primer alternativa es preguntándole a su amigo con capacidades especiales ChatGPT o sus endogámicos familiares Claude, DeepSeek, Gemini, Grok, etc\n",
        "<br> La segunda alternativa es la propia documentación de LightGBM  https://lightgbm.readthedocs.io/en/latest/Parameters-Tuning.html\n"
      ]
    },
    {
      "cell_type": "markdown",
      "metadata": {
        "id": "LNptUgI_NWWG"
      },
      "source": [
        "Adicionalmente podra buscar información como la que proveen esta diminuta muestra aleatoria de artículos ligeros:\n",
        "* https://machinelearningmastery.com/light-gradient-boosted-machine-lightgbm-ensemble/\n",
        "*  https://medium.com/@sarahzouinina/a-deep-dive-into-lightgbm-how-to-choose-and-tune-parameters-7c584945842e\n",
        "*  https://www.kaggle.com/code/somang1418/tuning-hyperparameters-under-10-minutes-lgbm\n",
        "*  https://towardsdatascience.com/beginners-guide-to-the-must-know-lightgbm-hyperparameters-a0005a812702/\n",
        "\n",
        "\n",
        "<br>  La muestra anterior se brinda a modo de ejemplo, usted deberá buscar muuuuchas  fuentes adicionales de información\n",
        "<br> Tenga presente que LightGBM es el estado del arte en modelado predictivo para datasets estructurado, que son el 90% del trabajo del 95% de los Data Scientists en Argentina."
      ]
    },
    {
      "cell_type": "markdown",
      "metadata": {
        "id": "WpUThBojODyK"
      },
      "source": [
        "El desafío de esta tarea es:\n",
        "* Qué hiperparparámetros conviene optimizar?  Las recomendaciones de los artículos ligeros es siempre sensata?  Sus autores realmente hicieron experimentos o son siemplemente escritores de entretenimiento carente de base científica?\n",
        "* Elegidos los hiperparámetros, cual es el  <desde, hasta> que se debe utilizar en la Bayesian Optimization ?\n",
        "* Realmente vale la pena optimizar 10 o 16 hiperparámetros al mismo tiempo ?  No resulta contraproducente una búsqueda en un espacio de tal alta dimensionalidad ?"
      ]
    },
    {
      "cell_type": "markdown",
      "metadata": {
        "id": "PX0qg_c0yqob"
      },
      "source": [
        "#### 2.1  Seteo del ambiente en Google Colab"
      ]
    },
    {
      "cell_type": "markdown",
      "metadata": {
        "id": "NGY7H9xza7Zr"
      },
      "source": [
        "Esta parte se debe correr con el runtime en Python3\n",
        "<br>Ir al menu, Runtime -> Change Runtime Type -> Runtime type ->  **Python 3**"
      ]
    },
    {
      "cell_type": "markdown",
      "metadata": {
        "id": "7PupIBNba7Zr"
      },
      "source": [
        "Conectar la virtual machine donde esta corriendo Google Colab con el  Google Drive, para poder tener persistencia de archivos"
      ]
    },
    {
      "cell_type": "code",
      "execution_count": null,
      "metadata": {
        "id": "9LpZCst5a7Zs",
        "vscode": {
          "languageId": "r"
        }
      },
      "outputs": [],
      "source": [
        "# primero establecer el Runtime de Python 3\n",
        "from google.colab import drive\n",
        "drive.mount('/content/.drive')"
      ]
    },
    {
      "cell_type": "markdown",
      "metadata": {
        "id": "JYC_F-wla7Zs"
      },
      "source": [
        "Para correr la siguiente celda es fundamental en Arranque en Frio haber copiado el archivo kaggle.json al Google Drive, en la carpeta indicada en el instructivo\n",
        "\n",
        "<br>los siguientes comando estan en shell script de Linux\n",
        "*   Crear las carpetas en el Google Drive\n",
        "*   \"instalar\" el archivo kaggle.json desde el Google Drive a la virtual machine para que pueda ser utilizado por la libreria  kaggle de Python\n",
        "*   Bajar el  **dataset_pequeno**  al  Google Drive  y tambien al disco local de la virtual machine que esta corriendo Google Colab\n",
        "\n"
      ]
    },
    {
      "cell_type": "code",
      "execution_count": null,
      "metadata": {
        "id": "XWLelftXa7Zt",
        "vscode": {
          "languageId": "r"
        }
      },
      "outputs": [],
      "source": [
        "%%shell\n",
        "\n",
        "mkdir -p \"/content/.drive/My Drive/labo1\"\n",
        "mkdir -p \"/content/buckets\"\n",
        "ln -s \"/content/.drive/My Drive/labo1\" /content/buckets/b1\n",
        "\n",
        "mkdir -p ~/.kaggle\n",
        "cp /content/buckets/b1/kaggle/kaggle.json  ~/.kaggle\n",
        "chmod 600 ~/.kaggle/kaggle.json\n",
        "\n",
        "\n",
        "mkdir -p /content/buckets/b1/exp\n",
        "mkdir -p /content/buckets/b1/datasets\n",
        "mkdir -p /content/datasets\n",
        "\n",
        "\n",
        "\n",
        "archivo_origen=\"https://storage.googleapis.com/open-courses/austral2025-af91/dataset_pequeno.csv\"\n",
        "archivo_destino=\"/content/datasets/dataset_pequeno.csv\"\n",
        "archivo_destino_bucket=\"/content/buckets/b1/datasets/dataset_pequeno.csv\"\n",
        "\n",
        "if ! test -f $archivo_destino_bucket; then\n",
        "  wget  $archivo_origen  -O $archivo_destino_bucket\n",
        "fi\n",
        "\n",
        "\n",
        "if ! test -f $archivo_destino; then\n",
        "  cp  $archivo_destino_bucket  $archivo_destino\n",
        "fi\n"
      ]
    },
    {
      "cell_type": "markdown",
      "metadata": {
        "id": "oSKhZRToy2F7"
      },
      "source": [
        "### 2.2 Optimizacion Hiperparámetros"
      ]
    },
    {
      "cell_type": "markdown",
      "metadata": {
        "id": "2kwPpHAtSmix"
      },
      "source": [
        "Esta parte se debe correr con el runtime en lenguaje R Ir al menu, Runtime -> Change Runtime Type -> Runtime type -> R"
      ]
    },
    {
      "cell_type": "markdown",
      "metadata": {
        "id": "xp4-Bj3aYI8d"
      },
      "source": [
        "### 2.2.1 Inicio"
      ]
    },
    {
      "cell_type": "markdown",
      "metadata": {
        "id": "zy8YTZfESxeJ"
      },
      "source": [
        "limpio el ambiente de R"
      ]
    },
    {
      "cell_type": "code",
      "execution_count": 1,
      "metadata": {
        "id": "gBq__iAdQliq",
        "vscode": {
          "languageId": "r"
        }
      },
      "outputs": [
        {
          "data": {
            "text/html": [
              "'Fri Sep 26 20:01:38 2025'"
            ],
            "text/latex": [
              "'Fri Sep 26 20:01:38 2025'"
            ],
            "text/markdown": [
              "'Fri Sep 26 20:01:38 2025'"
            ],
            "text/plain": [
              "[1] \"Fri Sep 26 20:01:38 2025\""
            ]
          },
          "metadata": {},
          "output_type": "display_data"
        }
      ],
      "source": [
        "format(Sys.time(), \"%a %b %d %X %Y\")"
      ]
    },
    {
      "cell_type": "code",
      "execution_count": 2,
      "metadata": {
        "id": "7rdVrBojS1IV",
        "vscode": {
          "languageId": "r"
        }
      },
      "outputs": [
        {
          "data": {
            "text/html": [
              "<table class=\"dataframe\">\n",
              "<caption>A matrix: 2 × 6 of type dbl</caption>\n",
              "<thead>\n",
              "\t<tr><th></th><th scope=col>used</th><th scope=col>(Mb)</th><th scope=col>gc trigger</th><th scope=col>(Mb)</th><th scope=col>max used</th><th scope=col>(Mb)</th></tr>\n",
              "</thead>\n",
              "<tbody>\n",
              "\t<tr><th scope=row>Ncells</th><td> 656994</td><td>35.1</td><td>1439380</td><td>76.9</td><td>1394420</td><td>74.5</td></tr>\n",
              "\t<tr><th scope=row>Vcells</th><td>1225111</td><td> 9.4</td><td>8388608</td><td>64.0</td><td>1924961</td><td>14.7</td></tr>\n",
              "</tbody>\n",
              "</table>\n"
            ],
            "text/latex": [
              "A matrix: 2 × 6 of type dbl\n",
              "\\begin{tabular}{r|llllll}\n",
              "  & used & (Mb) & gc trigger & (Mb) & max used & (Mb)\\\\\n",
              "\\hline\n",
              "\tNcells &  656994 & 35.1 & 1439380 & 76.9 & 1394420 & 74.5\\\\\n",
              "\tVcells & 1225111 &  9.4 & 8388608 & 64.0 & 1924961 & 14.7\\\\\n",
              "\\end{tabular}\n"
            ],
            "text/markdown": [
              "\n",
              "A matrix: 2 × 6 of type dbl\n",
              "\n",
              "| <!--/--> | used | (Mb) | gc trigger | (Mb) | max used | (Mb) |\n",
              "|---|---|---|---|---|---|---|\n",
              "| Ncells |  656994 | 35.1 | 1439380 | 76.9 | 1394420 | 74.5 |\n",
              "| Vcells | 1225111 |  9.4 | 8388608 | 64.0 | 1924961 | 14.7 |\n",
              "\n"
            ],
            "text/plain": [
              "       used    (Mb) gc trigger (Mb) max used (Mb)\n",
              "Ncells  656994 35.1 1439380    76.9 1394420  74.5\n",
              "Vcells 1225111  9.4 8388608    64.0 1924961  14.7"
            ]
          },
          "metadata": {},
          "output_type": "display_data"
        }
      ],
      "source": [
        "# limpio la memoria\n",
        "rm(list=ls(all.names=TRUE)) # remove all objects\n",
        "gc(full=TRUE, verbose=FALSE) # garbage collection"
      ]
    },
    {
      "cell_type": "markdown",
      "metadata": {
        "id": "kuPfQ7ksjwW3"
      },
      "source": [
        "### 2.2.2 Carga de Librerias"
      ]
    },
    {
      "cell_type": "code",
      "execution_count": 3,
      "metadata": {
        "id": "lVyxLaJ1j1J_",
        "vscode": {
          "languageId": "r"
        }
      },
      "outputs": [
        {
          "name": "stderr",
          "output_type": "stream",
          "text": [
            "Loading required package: data.table\n",
            "\n",
            "Loading required package: parallel\n",
            "\n",
            "Loading required package: primes\n",
            "\n",
            "Loading required package: rlist\n",
            "\n",
            "Loading required package: yaml\n",
            "\n",
            "Loading required package: lightgbm\n",
            "\n",
            "Loading required package: DiceKriging\n",
            "\n",
            "Loading required package: mlrMBO\n",
            "\n",
            "Loading required package: mlr\n",
            "\n",
            "Loading required package: ParamHelpers\n",
            "\n",
            "Loading required package: smoof\n",
            "\n",
            "Loading required package: checkmate\n",
            "\n",
            "\n",
            "Attaching package: ‘checkmate’\n",
            "\n",
            "\n",
            "The following object is masked from ‘package:DiceKriging’:\n",
            "\n",
            "    checkNames\n",
            "\n",
            "\n"
          ]
        }
      ],
      "source": [
        "# cargo las librerias que necesito\n",
        "require(\"data.table\")\n",
        "require(\"parallel\")\n",
        "\n",
        "if( !require(\"primes\") ) install.packages(\"primes\")\n",
        "require(\"primes\")\n",
        "\n",
        "if( !require(\"utils\") ) install.packages(\"utils\")\n",
        "require(\"utils\")\n",
        "\n",
        "if( !require(\"rlist\") ) install.packages(\"rlist\")\n",
        "require(\"rlist\")\n",
        "\n",
        "if( !require(\"yaml\")) install.packages(\"yaml\")\n",
        "require(\"yaml\")\n",
        "\n",
        "if( !require(\"lightgbm\") ) install.packages(\"lightgbm\")\n",
        "require(\"lightgbm\")\n",
        "\n",
        "if( !require(\"DiceKriging\") ) install.packages(\"DiceKriging\")\n",
        "require(\"DiceKriging\")\n",
        "\n",
        "if( !require(\"mlrMBO\") ) install.packages(\"mlrMBO\")\n",
        "require(\"mlrMBO\")"
      ]
    },
    {
      "cell_type": "markdown",
      "metadata": {
        "id": "Iz-6Qt6BUaA3"
      },
      "source": [
        "### 2.2.3 Definicion de Parametros"
      ]
    },
    {
      "cell_type": "markdown",
      "metadata": {
        "id": "cOdlKd7lUm2I"
      },
      "source": [
        "aqui debe cargar SU semilla primigenia\n",
        "<br>recuerde cambiar el numero de experimento en cada corrida nueva"
      ]
    },
    {
      "cell_type": "code",
      "execution_count": null,
      "metadata": {
        "id": "ASYkebOu2mF6",
        "vscode": {
          "languageId": "r"
        }
      },
      "outputs": [],
      "source": [
        "PARAM <- list()\n",
        "PARAM$experimento <- 4941\n",
        "PARAM$semilla_primigenia <- 107827\n"
      ]
    },
    {
      "cell_type": "code",
      "execution_count": 5,
      "metadata": {
        "id": "ezOhQdbA293o",
        "vscode": {
          "languageId": "r"
        }
      },
      "outputs": [],
      "source": [
        "PARAM$kaggle$competencia <- \"labo-i-2025-ba-analista-sr\"\n",
        "PARAM$kaggle$cortes <- seq(10000, 12000, by= 500)"
      ]
    },
    {
      "cell_type": "code",
      "execution_count": 6,
      "metadata": {
        "id": "jtB0Lub42rHO",
        "vscode": {
          "languageId": "r"
        }
      },
      "outputs": [],
      "source": [
        "# un undersampling de 0.1  toma solo el 10% de los CONTINUA\n",
        "# undersampling de 1.0  implica tomar TODOS los datos\n",
        "\n",
        "PARAM$trainingstrategy$undersampling <- 0.5"
      ]
    },
    {
      "cell_type": "code",
      "execution_count": 7,
      "metadata": {
        "id": "OFxm-xiNUOJX",
        "vscode": {
          "languageId": "r"
        }
      },
      "outputs": [],
      "source": [
        "# Parametros LightGBM\n",
        "\n",
        "PARAM$hyperparametertuning$xval_folds <- 5\n",
        "\n",
        "# parametros fijos del LightGBM que se pisaran con la parte variable de la BO\n",
        "PARAM$lgbm$param_fijos <-  list(\n",
        "  boosting= \"gbdt\", # puede ir  dart  , ni pruebe random_forest\n",
        "  objective= \"binary\",\n",
        "  metric= \"auc\",\n",
        "  first_metric_only= FALSE,\n",
        "  boost_from_average= TRUE,\n",
        "  feature_pre_filter= FALSE,\n",
        "  force_row_wise= TRUE, # para reducir warnings\n",
        "  verbosity= -100,\n",
        "\n",
        "  seed= PARAM$semilla_primigenia,\n",
        "\n",
        "  max_depth= -1L, # -1 significa no limitar,  por ahora lo dejo fijo\n",
        "  min_gain_to_split= 0, # min_gain_to_split >= 0\n",
        "  min_sum_hessian_in_leaf= 0.001, #  min_sum_hessian_in_leaf >= 0.0\n",
        "  lambda_l1= 0.0, # lambda_l1 >= 0.0\n",
        "  lambda_l2= 0.0, # lambda_l2 >= 0.0\n",
        "  max_bin= 31L, # lo debo dejar fijo, no participa de la BO\n",
        "\n",
        "  bagging_fraction= 1.0, # 0.0 < bagging_fraction <= 1.0\n",
        "  pos_bagging_fraction= 1.0, # 0.0 < pos_bagging_fraction <= 1.0\n",
        "  neg_bagging_fraction= 1.0, # 0.0 < neg_bagging_fraction <= 1.0\n",
        "  is_unbalance= FALSE, #\n",
        "  scale_pos_weight= 1.0, # scale_pos_weight > 0.0\n",
        "\n",
        "  drop_rate= 0.1, # 0.0 < neg_bagging_fraction <= 1.0\n",
        "  max_drop= 50, # <=0 means no limit\n",
        "  skip_drop= 0.5, # 0.0 <= skip_drop <= 1.0\n",
        "\n",
        "  extra_trees= FALSE,\n",
        "\n",
        "  num_iterations= 1200,\n",
        "  learning_rate= 0.02,\n",
        "  feature_fraction= 0.5,\n",
        "  num_leaves= 750,\n",
        "  min_data_in_leaf= 5000\n",
        ")\n"
      ]
    },
    {
      "cell_type": "markdown",
      "metadata": {
        "id": "D5Yj-JV4yvOt"
      },
      "source": [
        "Aqui se definen los hiperparámetros de LightGBM que participan de la Bayesian Optimization\n",
        "<br> si es un numero entero debe ir  makeIntegerParam\n",
        "<br> si es un numero real (con decimales) debe ir  makeNumericParam\n",
        "<br> es muy importante leer cuales son un lower y upper  permitidos y ademas razonables"
      ]
    },
    {
      "cell_type": "code",
      "execution_count": 8,
      "metadata": {
        "id": "jENpR26ZyuS8",
        "vscode": {
          "languageId": "r"
        }
      },
      "outputs": [],
      "source": [
        "# Aqui se cargan los bordes de los hiperparametros de la BO\n",
        "PARAM$hypeparametertuning$hs <- makeParamSet(\n",
        "  makeIntegerParam(\"num_iterations\", lower= 8L, upper= 2048L),\n",
        "  makeNumericParam(\"learning_rate\", lower= 0.01, upper= 0.3),\n",
        "  makeNumericParam(\"feature_fraction\", lower= 0.1, upper= 1.0),\n",
        "  makeIntegerParam(\"num_leaves\", lower= 8L, upper= 2048L),\n",
        "  makeIntegerParam(\"min_data_in_leaf\", lower= 1L, upper= 8000L)\n",
        ")"
      ]
    },
    {
      "cell_type": "markdown",
      "metadata": {
        "id": "-_RPFUb3zMoW"
      },
      "source": [
        "A mayor cantidad de hiperparámetros, se debe aumentar las iteraciones de la Bayesian Optimization\n",
        "<br> 30 es un valor muy tacaño, pero corre rápido\n",
        "<br> deberia partir de 50, alcanzando los 100 si se dispone de tiempo"
      ]
    },
    {
      "cell_type": "code",
      "execution_count": 9,
      "metadata": {
        "id": "q5Rd3pnbzSiG",
        "vscode": {
          "languageId": "r"
        }
      },
      "outputs": [],
      "source": [
        "PARAM$hyperparametertuning$iteraciones <- 75 # iteraciones bayesianas"
      ]
    },
    {
      "cell_type": "markdown",
      "metadata": {
        "id": "4RWZXL1VZjMI"
      },
      "source": [
        "### 2.2.4  Preprocesamiento"
      ]
    },
    {
      "cell_type": "code",
      "execution_count": 10,
      "metadata": {
        "id": "j3toG9-lZm4K",
        "vscode": {
          "languageId": "r"
        }
      },
      "outputs": [],
      "source": [
        "# carpeta de trabajo\n",
        "\n",
        "setwd(\"/content/buckets/b1/exp\")\n",
        "experimento_folder <- paste0(\"HT\", PARAM$experimento)\n",
        "dir.create(experimento_folder, showWarnings=FALSE)\n",
        "setwd( paste0(\"/content/buckets/b1/exp/\", experimento_folder ))"
      ]
    },
    {
      "cell_type": "code",
      "execution_count": 11,
      "metadata": {
        "id": "FM3lxKoLZ643",
        "vscode": {
          "languageId": "r"
        }
      },
      "outputs": [],
      "source": [
        "# lectura del dataset\n",
        "\n",
        "dataset <- fread(\"/content/datasets/dataset_pequeno.csv\")"
      ]
    },
    {
      "cell_type": "code",
      "execution_count": 12,
      "metadata": {
        "id": "OsJ-91UeZ-I_",
        "vscode": {
          "languageId": "r"
        }
      },
      "outputs": [],
      "source": [
        "dataset_train <- dataset[foto_mes %in% c(202107)]"
      ]
    },
    {
      "cell_type": "code",
      "execution_count": 13,
      "metadata": {
        "id": "vrWE7BE0aB2J",
        "vscode": {
          "languageId": "r"
        }
      },
      "outputs": [],
      "source": [
        "# paso la clase a binaria que tome valores {0,1}  enteros\n",
        "#  BAJA+1 y BAJA+2  son  1,   CONTINUA es 0\n",
        "\n",
        "dataset_train[,\n",
        "  clase01 := ifelse(clase_ternaria %in% c(\"BAJA+2\",\"BAJA+1\"), 1L, 0L)\n",
        "]"
      ]
    },
    {
      "cell_type": "code",
      "execution_count": 14,
      "metadata": {
        "id": "jP7YlQBnaW6W",
        "vscode": {
          "languageId": "r"
        }
      },
      "outputs": [],
      "source": [
        "# defino los datos que forma parte del training\n",
        "# aqui se hace el undersampling de los CONTINUA\n",
        "# notar que para esto utilizo la SEGUNDA semilla\n",
        "\n",
        "set.seed(PARAM$semilla_primigenia, kind = \"L'Ecuyer-CMRG\")\n",
        "dataset_train[, azar := runif(nrow(dataset_train))]\n",
        "dataset_train[, training := 0L]\n",
        "\n",
        "dataset_train[\n",
        "  foto_mes %in% c(202107) &\n",
        "    (azar <= PARAM$trainingstrategy$undersampling | clase_ternaria %in% c(\"BAJA+1\", \"BAJA+2\")),\n",
        "  training := 1L\n",
        "]"
      ]
    },
    {
      "cell_type": "code",
      "execution_count": 15,
      "metadata": {
        "id": "xElu4s5W4rX7",
        "vscode": {
          "languageId": "r"
        }
      },
      "outputs": [],
      "source": [
        "# los campos que se van a utilizar\n",
        "\n",
        "campos_buenos <- setdiff(\n",
        "  colnames(dataset_train),\n",
        "  c(\"clase_ternaria\", \"clase01\", \"azar\", \"training\")\n",
        ")"
      ]
    },
    {
      "cell_type": "code",
      "execution_count": 16,
      "metadata": {
        "id": "PppMHcGYaaol",
        "vscode": {
          "languageId": "r"
        }
      },
      "outputs": [
        {
          "data": {
            "text/html": [
              "83504"
            ],
            "text/latex": [
              "83504"
            ],
            "text/markdown": [
              "83504"
            ],
            "text/plain": [
              "[1] 83504"
            ]
          },
          "metadata": {},
          "output_type": "display_data"
        },
        {
          "data": {
            "text/html": [
              "154"
            ],
            "text/latex": [
              "154"
            ],
            "text/markdown": [
              "154"
            ],
            "text/plain": [
              "[1] 154"
            ]
          },
          "metadata": {},
          "output_type": "display_data"
        }
      ],
      "source": [
        "# dejo los datos en el formato que necesita LightGBM\n",
        "\n",
        "dtrain <- lgb.Dataset(\n",
        "  data= data.matrix(dataset_train[training == 1L, campos_buenos, with= FALSE]),\n",
        "  label= dataset_train[training == 1L, clase01],\n",
        "  free_raw_data= FALSE\n",
        ")\n",
        "\n",
        "nrow(dtrain)\n",
        "ncol(dtrain)"
      ]
    },
    {
      "cell_type": "markdown",
      "metadata": {
        "id": "Ta-EkOu3cphF"
      },
      "source": [
        "2.2.5 Configuracion Bayesian Optimization"
      ]
    },
    {
      "cell_type": "code",
      "execution_count": 17,
      "metadata": {
        "id": "cjgfurjdfiXb",
        "vscode": {
          "languageId": "r"
        }
      },
      "outputs": [],
      "source": [
        "# En el argumento x llegan los parmaetros de la bayesiana\n",
        "#  devuelve la AUC en cross validation del modelo entrenado\n",
        "\n",
        "EstimarGanancia_AUC_lightgbm <- function(x) {\n",
        "\n",
        "  # x pisa (o agrega) a param_fijos\n",
        "  param_completo <- modifyList(PARAM$lgbm$param_fijos, x)\n",
        "\n",
        "  # entreno LightGBM\n",
        "  modelocv <- lgb.cv(\n",
        "    data= dtrain,\n",
        "    nfold= PARAM$hyperparametertuning$xval_folds,\n",
        "    stratified= TRUE,\n",
        "    param= param_completo\n",
        "  )\n",
        "\n",
        "  # obtengo la ganancia\n",
        "  AUC <- modelocv$best_score\n",
        "\n",
        "  # hago espacio en la memoria\n",
        "  rm(modelocv)\n",
        "  gc(full= TRUE, verbose= FALSE)\n",
        "\n",
        "  message(format(Sys.time(), \"%a %b %d %X %Y\"), \" AUC \", AUC)\n",
        "\n",
        "  return(AUC)\n",
        "}"
      ]
    },
    {
      "cell_type": "code",
      "execution_count": 18,
      "metadata": {
        "id": "WLi_o1hocvN-",
        "vscode": {
          "languageId": "r"
        }
      },
      "outputs": [],
      "source": [
        "# Aqui comienza la configuracion de la Bayesian Optimization\n",
        "\n",
        "# en este archivo quedan la evolucion binaria de la BO\n",
        "kbayesiana <- \"bayesiana.RDATA\"\n",
        "\n",
        "funcion_optimizar <- EstimarGanancia_AUC_lightgbm # la funcion que voy a maximizar\n",
        "\n",
        "configureMlr(show.learner.output= FALSE)\n",
        "\n",
        "# configuro la busqueda bayesiana,  los hiperparametros que se van a optimizar\n",
        "# por favor, no desesperarse por lo complejo\n",
        "\n",
        "obj.fun <- makeSingleObjectiveFunction(\n",
        "  fn= funcion_optimizar, # la funcion que voy a maximizar\n",
        "  minimize= FALSE, # estoy Maximizando la ganancia\n",
        "  noisy= TRUE,\n",
        "  par.set= PARAM$hypeparametertuning$hs, # definido al comienzo del programa\n",
        "  has.simple.signature= FALSE # paso los parametros en una lista\n",
        ")\n",
        "\n",
        "# cada 600 segundos guardo el resultado intermedio\n",
        "ctrl <- makeMBOControl(\n",
        "  save.on.disk.at.time= 600, # se graba cada 600 segundos\n",
        "  save.file.path= kbayesiana\n",
        ") # se graba cada 600 segundos\n",
        "\n",
        "# indico la cantidad de iteraciones que va a tener la Bayesian Optimization\n",
        "ctrl <- setMBOControlTermination(\n",
        "  ctrl,\n",
        "  iters= PARAM$hyperparametertuning$iteraciones\n",
        ") # cantidad de iteraciones\n",
        "\n",
        "# defino el método estandar para la creacion de los puntos iniciales,\n",
        "# los \"No Inteligentes\"\n",
        "ctrl <- setMBOControlInfill(ctrl, crit= makeMBOInfillCritEI())\n",
        "\n",
        "# establezco la funcion que busca el maximo\n",
        "surr.km <- makeLearner(\n",
        "  \"regr.km\",\n",
        "  predict.type= \"se\",\n",
        "  covtype= \"matern3_2\",\n",
        "  control= list(trace= TRUE)\n",
        ")\n"
      ]
    },
    {
      "cell_type": "markdown",
      "metadata": {
        "id": "_uUeVo5pc4zc"
      },
      "source": [
        "2.2.6 Corrida Bayesian Optimization"
      ]
    },
    {
      "cell_type": "code",
      "execution_count": 19,
      "metadata": {
        "id": "RcABNaKGciaz",
        "vscode": {
          "languageId": "r"
        }
      },
      "outputs": [
        {
          "name": "stderr",
          "output_type": "stream",
          "text": [
            "Computing y column(s) for design. Not provided.\n",
            "\n",
            "Fri Sep 26 20:19:02 2025 AUC 0.926391483786628\n",
            "\n",
            "Fri Sep 26 20:19:45 2025 AUC 0.927539551865502\n",
            "\n",
            "Fri Sep 26 20:20:27 2025 AUC 0.92563543911363\n",
            "\n",
            "Fri Sep 26 20:21:35 2025 AUC 0.928440502402533\n",
            "\n",
            "Fri Sep 26 20:22:34 2025 AUC 0.92566659884348\n",
            "\n",
            "Fri Sep 26 20:24:48 2025 AUC 0.923375894921142\n",
            "\n",
            "Fri Sep 26 20:25:32 2025 AUC 0.925313229154824\n",
            "\n",
            "Fri Sep 26 20:26:39 2025 AUC 0.927001604936078\n",
            "\n",
            "Fri Sep 26 20:27:26 2025 AUC 0.925601009975341\n",
            "\n",
            "Fri Sep 26 20:27:40 2025 AUC 0.92719067538415\n",
            "\n",
            "Fri Sep 26 20:30:59 2025 AUC 0.929728558617784\n",
            "\n",
            "Fri Sep 26 20:32:42 2025 AUC 0.92458925889636\n",
            "\n",
            "Fri Sep 26 20:32:45 2025 AUC 0.910688329516531\n",
            "\n",
            "Fri Sep 26 20:33:41 2025 AUC 0.923985523442736\n",
            "\n",
            "Fri Sep 26 20:35:02 2025 AUC 0.926607973318049\n",
            "\n",
            "Fri Sep 26 20:36:27 2025 AUC 0.924812813469874\n",
            "\n",
            "Fri Sep 26 20:38:21 2025 AUC 0.924561816299253\n",
            "\n",
            "Fri Sep 26 20:38:43 2025 AUC 0.925427391164486\n",
            "\n",
            "Fri Sep 26 20:39:21 2025 AUC 0.927514668205281\n",
            "\n",
            "Fri Sep 26 20:39:41 2025 AUC 0.9241609603893\n",
            "\n",
            "[mbo] 0: num_iterations=1299; learning_rate=0.207; feature_fraction=0.694; num_leaves=832; min_data_in_leaf=4701 : y = 0.926 : 64.4 secs : initdesign\n",
            "\n",
            "[mbo] 0: num_iterations=456; learning_rate=0.0954; feature_fraction=0.971; num_leaves=1343; min_data_in_leaf=1041 : y = 0.928 : 43.7 secs : initdesign\n",
            "\n",
            "[mbo] 0: num_iterations=978; learning_rate=0.156; feature_fraction=0.731; num_leaves=1588; min_data_in_leaf=7214 : y = 0.926 : 41.4 secs : initdesign\n",
            "\n",
            "[mbo] 0: num_iterations=1216; learning_rate=0.0727; feature_fraction=0.635; num_leaves=1440; min_data_in_leaf=4274 : y = 0.928 : 68.5 secs : initdesign\n",
            "\n",
            "[mbo] 0: num_iterations=309; learning_rate=0.147; feature_fraction=0.545; num_leaves=636; min_data_in_leaf=274 : y = 0.926 : 58.5 secs : initdesign\n",
            "\n",
            "[mbo] 0: num_iterations=1755; learning_rate=0.262; feature_fraction=0.279; num_leaves=40; min_data_in_leaf=2176 : y = 0.923 : 134.5 secs : initdesign\n",
            "\n",
            "[mbo] 0: num_iterations=687; learning_rate=0.112; feature_fraction=0.298; num_leaves=171; min_data_in_leaf=5722 : y = 0.925 : 43.7 secs : initdesign\n",
            "\n",
            "[mbo] 0: num_iterations=1521; learning_rate=0.129; feature_fraction=0.795; num_leaves=402; min_data_in_leaf=4958 : y = 0.927 : 66.9 secs : initdesign\n",
            "\n",
            "[mbo] 0: num_iterations=822; learning_rate=0.191; feature_fraction=0.866; num_leaves=1678; min_data_in_leaf=2610 : y = 0.926 : 47.4 secs : initdesign\n",
            "\n",
            "[mbo] 0: num_iterations=180; learning_rate=0.105; feature_fraction=0.503; num_leaves=1242; min_data_in_leaf=5587 : y = 0.927 : 13.5 secs : initdesign\n",
            "\n",
            "[mbo] 0: num_iterations=1703; learning_rate=0.0393; feature_fraction=0.449; num_leaves=785; min_data_in_leaf=668 : y = 0.93 : 198.9 secs : initdesign\n",
            "\n",
            "[mbo] 0: num_iterations=1558; learning_rate=0.275; feature_fraction=0.346; num_leaves=1819; min_data_in_leaf=7085 : y = 0.925 : 103.3 secs : initdesign\n",
            "\n",
            "[mbo] 0: num_iterations=32; learning_rate=0.0172; feature_fraction=0.191; num_leaves=1224; min_data_in_leaf=1807 : y = 0.911 : 2.7 secs : initdesign\n",
            "\n",
            "[mbo] 0: num_iterations=1089; learning_rate=0.224; feature_fraction=0.138; num_leaves=556; min_data_in_leaf=3933 : y = 0.924 : 56.8 secs : initdesign\n",
            "\n",
            "[mbo] 0: num_iterations=1413; learning_rate=0.0567; feature_fraction=0.384; num_leaves=1897; min_data_in_leaf=6250 : y = 0.927 : 80.6 secs : initdesign\n",
            "\n",
            "[mbo] 0: num_iterations=1953; learning_rate=0.17; feature_fraction=0.589; num_leaves=511; min_data_in_leaf=7846 : y = 0.925 : 84.7 secs : initdesign\n",
            "\n",
            "[mbo] 0: num_iterations=1942; learning_rate=0.256; feature_fraction=0.671; num_leaves=1055; min_data_in_leaf=1533 : y = 0.925 : 114.7 secs : initdesign\n",
            "\n",
            "[mbo] 0: num_iterations=614; learning_rate=0.286; feature_fraction=0.848; num_leaves=996; min_data_in_leaf=6515 : y = 0.925 : 21.5 secs : initdesign\n",
            "\n",
            "[mbo] 0: num_iterations=883; learning_rate=0.0351; feature_fraction=0.946; num_leaves=294; min_data_in_leaf=3256 : y = 0.928 : 37.7 secs : initdesign\n",
            "\n",
            "[mbo] 0: num_iterations=366; learning_rate=0.241; feature_fraction=0.18; num_leaves=1980; min_data_in_leaf=3025 : y = 0.924 : 20.2 secs : initdesign\n",
            "\n",
            "Saved the current state after iteration 1 in the file bayesiana.RDATA.\n",
            "\n",
            "Fri Sep 26 20:41:38 2025 AUC 0.927584885621043\n",
            "\n",
            "[mbo] 1: num_iterations=1665; learning_rate=0.0641; feature_fraction=0.505; num_leaves=101; min_data_in_leaf=2648 : y = 0.928 : 112.0 secs : infill_ei\n",
            "\n",
            "Fri Sep 26 20:44:32 2025 AUC 0.929164474789433\n",
            "\n",
            "[mbo] 2: num_iterations=1794; learning_rate=0.0431; feature_fraction=0.837; num_leaves=884; min_data_in_leaf=438 : y = 0.929 : 173.6 secs : infill_ei\n",
            "\n",
            "Fri Sep 26 20:48:19 2025 AUC 0.927070779840467\n",
            "\n",
            "[mbo] 3: num_iterations=1811; learning_rate=0.0388; feature_fraction=0.572; num_leaves=1150; min_data_in_leaf=2 : y = 0.927 : 225.9 secs : infill_ei\n",
            "\n",
            "Fri Sep 26 20:51:05 2025 AUC 0.92338142820286\n",
            "\n",
            "[mbo] 4: num_iterations=1735; learning_rate=0.0948; feature_fraction=0.438; num_leaves=1055; min_data_in_leaf=28 : y = 0.923 : 165.5 secs : infill_ei\n",
            "\n",
            "Saved the current state after iteration 5 in the file bayesiana.RDATA.\n",
            "\n",
            "Fri Sep 26 20:53:32 2025 AUC 0.930173735963291\n",
            "\n",
            "[mbo] 5: num_iterations=1731; learning_rate=0.0473; feature_fraction=0.579; num_leaves=237; min_data_in_leaf=661 : y = 0.93 : 141.2 secs : infill_ei\n",
            "\n",
            "Fri Sep 26 20:55:55 2025 AUC 0.930030230177706\n",
            "\n",
            "[mbo] 6: num_iterations=2001; learning_rate=0.0418; feature_fraction=0.482; num_leaves=350; min_data_in_leaf=1147 : y = 0.93 : 142.8 secs : infill_ei\n",
            "\n",
            "Fri Sep 26 20:57:28 2025 AUC 0.928288800787209\n",
            "\n",
            "[mbo] 7: num_iterations=1535; learning_rate=0.0429; feature_fraction=0.452; num_leaves=154; min_data_in_leaf=2070 : y = 0.928 : 92.5 secs : infill_ei\n",
            "\n",
            "Fri Sep 26 21:00:03 2025 AUC 0.928799830999257\n",
            "\n",
            "[mbo] 8: num_iterations=1723; learning_rate=0.0473; feature_fraction=0.754; num_leaves=485; min_data_in_leaf=419 : y = 0.929 : 154.4 secs : infill_ei\n",
            "\n",
            "Fri Sep 26 21:01:47 2025 AUC 0.928299083062499\n",
            "\n",
            "[mbo] 9: num_iterations=1797; learning_rate=0.0308; feature_fraction=0.549; num_leaves=8; min_data_in_leaf=1181 : y = 0.928 : 104.0 secs : infill_ei\n",
            "\n",
            "Saved the current state after iteration 10 in the file bayesiana.RDATA.\n",
            "\n",
            "Fri Sep 26 21:03:30 2025 AUC 0.928377253060778\n",
            "\n",
            "[mbo] 10: num_iterations=1603; learning_rate=0.0295; feature_fraction=0.576; num_leaves=660; min_data_in_leaf=2961 : y = 0.928 : 96.0 secs : infill_ei\n",
            "\n",
            "Fri Sep 26 21:04:37 2025 AUC 0.927179172469287\n",
            "\n",
            "[mbo] 11: num_iterations=1681; learning_rate=0.0513; feature_fraction=0.921; num_leaves=965; min_data_in_leaf=3399 : y = 0.927 : 66.5 secs : infill_ei\n",
            "\n",
            "Fri Sep 26 21:07:33 2025 AUC 0.929100987881404\n",
            "\n",
            "[mbo] 12: num_iterations=1652; learning_rate=0.0376; feature_fraction=0.521; num_leaves=543; min_data_in_leaf=368 : y = 0.929 : 175.3 secs : infill_ei\n",
            "\n",
            "Fri Sep 26 21:09:42 2025 AUC 0.928474225938538\n",
            "\n",
            "[mbo] 13: num_iterations=1768; learning_rate=0.0477; feature_fraction=0.516; num_leaves=551; min_data_in_leaf=1069 : y = 0.928 : 129.2 secs : infill_ei\n",
            "\n",
            "Fri Sep 26 21:12:28 2025 AUC 0.929782592520155\n",
            "\n",
            "[mbo] 14: num_iterations=2016; learning_rate=0.0388; feature_fraction=0.889; num_leaves=246; min_data_in_leaf=524 : y = 0.93 : 165.5 secs : infill_ei\n",
            "\n",
            "Saved the current state after iteration 15 in the file bayesiana.RDATA.\n",
            "\n",
            "Fri Sep 26 21:14:27 2025 AUC 0.929471765331031\n",
            "\n",
            "[mbo] 15: num_iterations=909; learning_rate=0.0207; feature_fraction=0.632; num_leaves=266; min_data_in_leaf=4 : y = 0.929 : 112.1 secs : infill_ei\n",
            "\n",
            "Fri Sep 26 21:21:48 2025 AUC 0.927440503984869\n",
            "\n",
            "[mbo] 16: num_iterations=1621; learning_rate=0.0102; feature_fraction=0.611; num_leaves=794; min_data_in_leaf=76 : y = 0.927 : 440.6 secs : infill_ei\n",
            "\n",
            "Fri Sep 26 21:24:34 2025 AUC 0.929141779333471\n",
            "\n",
            "[mbo] 17: num_iterations=2045; learning_rate=0.0369; feature_fraction=0.475; num_leaves=244; min_data_in_leaf=686 : y = 0.929 : 166.1 secs : infill_ei\n",
            "\n",
            "Saved the current state after iteration 18 in the file bayesiana.RDATA.\n",
            "\n",
            "Fri Sep 26 21:26:40 2025 AUC 0.929364864422188\n",
            "\n",
            "[mbo] 18: num_iterations=1453; learning_rate=0.0414; feature_fraction=0.619; num_leaves=291; min_data_in_leaf=536 : y = 0.929 : 120.7 secs : infill_ei\n",
            "\n",
            "Fri Sep 26 21:28:07 2025 AUC 0.928714078646199\n",
            "\n",
            "[mbo] 19: num_iterations=1987; learning_rate=0.0473; feature_fraction=0.676; num_leaves=621; min_data_in_leaf=2260 : y = 0.929 : 86.6 secs : infill_ei\n",
            "\n",
            "Fri Sep 26 21:29:29 2025 AUC 0.927317067739626\n",
            "\n",
            "[mbo] 20: num_iterations=2034; learning_rate=0.0393; feature_fraction=0.981; num_leaves=292; min_data_in_leaf=2728 : y = 0.927 : 81.5 secs : infill_ei\n",
            "\n",
            "Fri Sep 26 21:32:39 2025 AUC 0.926891709174807\n",
            "\n",
            "[mbo] 21: num_iterations=1917; learning_rate=0.0446; feature_fraction=0.571; num_leaves=346; min_data_in_leaf=16 : y = 0.927 : 190.2 secs : infill_ei\n",
            "\n",
            "Fri Sep 26 21:36:16 2025 AUC 0.929312623883905\n",
            "\n",
            "[mbo] 22: num_iterations=1806; learning_rate=0.0446; feature_fraction=0.987; num_leaves=526; min_data_in_leaf=676 : y = 0.929 : 215.9 secs : infill_ei\n",
            "\n",
            "Saved the current state after iteration 23 in the file bayesiana.RDATA.\n",
            "\n",
            "Fri Sep 26 21:39:50 2025 AUC 0.928958667822731\n",
            "\n",
            "[mbo] 23: num_iterations=2046; learning_rate=0.0477; feature_fraction=0.279; num_leaves=94; min_data_in_leaf=1484 : y = 0.929 : 208.0 secs : infill_ei\n",
            "\n",
            "Fri Sep 26 21:42:25 2025 AUC 0.929317278438945\n",
            "\n",
            "[mbo] 24: num_iterations=1546; learning_rate=0.0581; feature_fraction=0.363; num_leaves=301; min_data_in_leaf=1250 : y = 0.929 : 153.8 secs : infill_ei\n",
            "\n",
            "Fri Sep 26 21:43:44 2025 AUC 0.929275328239446\n",
            "\n",
            "[mbo] 25: num_iterations=1115; learning_rate=0.0508; feature_fraction=0.395; num_leaves=10; min_data_in_leaf=757 : y = 0.929 : 78.3 secs : infill_ei\n",
            "\n",
            "Fri Sep 26 21:46:13 2025 AUC 0.931155136378182\n",
            "\n",
            "[mbo] 26: num_iterations=1712; learning_rate=0.0418; feature_fraction=0.551; num_leaves=29; min_data_in_leaf=680 : y = 0.931 : 149.3 secs : infill_ei\n",
            "\n",
            "Fri Sep 26 21:47:55 2025 AUC 0.928728916429333\n",
            "\n",
            "[mbo] 27: num_iterations=2039; learning_rate=0.0425; feature_fraction=0.854; num_leaves=8; min_data_in_leaf=887 : y = 0.929 : 100.6 secs : infill_ei\n",
            "\n",
            "Saved the current state after iteration 28 in the file bayesiana.RDATA.\n",
            "\n",
            "Fri Sep 26 21:52:23 2025 AUC 0.927103207810292\n",
            "\n",
            "[mbo] 28: num_iterations=1174; learning_rate=0.0245; feature_fraction=0.905; num_leaves=970; min_data_in_leaf=256 : y = 0.927 : 261.2 secs : infill_ei\n",
            "\n",
            "Fri Sep 26 21:55:13 2025 AUC 0.927757017043872\n",
            "\n",
            "[mbo] 29: num_iterations=2036; learning_rate=0.0459; feature_fraction=0.853; num_leaves=67; min_data_in_leaf=1270 : y = 0.928 : 170.0 secs : infill_ei\n",
            "\n",
            "Fri Sep 26 21:59:15 2025 AUC 0.92940666039998\n",
            "\n",
            "[mbo] 30: num_iterations=1976; learning_rate=0.0163; feature_fraction=0.979; num_leaves=1782; min_data_in_leaf=629 : y = 0.929 : 241.4 secs : infill_ei\n",
            "\n",
            "Saved the current state after iteration 31 in the file bayesiana.RDATA.\n",
            "\n",
            "Fri Sep 26 22:02:33 2025 AUC 0.928317881141828\n",
            "\n",
            "[mbo] 31: num_iterations=2046; learning_rate=0.038; feature_fraction=0.109; num_leaves=1203; min_data_in_leaf=1276 : y = 0.928 : 191.1 secs : infill_ei\n",
            "\n",
            "Fri Sep 26 22:04:15 2025 AUC 0.928807748132322\n",
            "\n",
            "[mbo] 32: num_iterations=1727; learning_rate=0.0424; feature_fraction=0.121; num_leaves=13; min_data_in_leaf=656 : y = 0.929 : 102.0 secs : infill_ei\n",
            "\n",
            "Fri Sep 26 22:06:35 2025 AUC 0.927706971364493\n",
            "\n",
            "[mbo] 33: num_iterations=911; learning_rate=0.0604; feature_fraction=0.643; num_leaves=389; min_data_in_leaf=377 : y = 0.928 : 139.4 secs : infill_ei\n",
            "\n",
            "Fri Sep 26 22:07:56 2025 AUC 0.929602094832255\n",
            "\n",
            "[mbo] 34: num_iterations=1984; learning_rate=0.0237; feature_fraction=0.678; num_leaves=10; min_data_in_leaf=880 : y = 0.93 : 79.9 secs : infill_ei\n",
            "\n",
            "Fri Sep 26 22:10:45 2025 AUC 0.929277919846997\n",
            "\n",
            "[mbo] 35: num_iterations=1358; learning_rate=0.0612; feature_fraction=0.425; num_leaves=365; min_data_in_leaf=703 : y = 0.929 : 168.5 secs : infill_ei\n",
            "\n",
            "Saved the current state after iteration 36 in the file bayesiana.RDATA.\n",
            "\n",
            "Fri Sep 26 22:12:46 2025 AUC 0.928302419255745\n",
            "\n",
            "[mbo] 36: num_iterations=2000; learning_rate=0.0202; feature_fraction=0.744; num_leaves=928; min_data_in_leaf=1511 : y = 0.928 : 114.4 secs : infill_ei\n",
            "\n",
            "Fri Sep 26 22:13:55 2025 AUC 0.929008588591068\n",
            "\n",
            "[mbo] 37: num_iterations=994; learning_rate=0.0103; feature_fraction=0.299; num_leaves=1565; min_data_in_leaf=1175 : y = 0.929 : 68.7 secs : infill_ei\n",
            "\n",
            "Fri Sep 26 22:15:23 2025 AUC 0.928994757666669\n",
            "\n",
            "[mbo] 38: num_iterations=1632; learning_rate=0.0395; feature_fraction=0.537; num_leaves=9; min_data_in_leaf=732 : y = 0.929 : 87.6 secs : infill_ei\n",
            "\n",
            "Fri Sep 26 22:18:43 2025 AUC 0.930159667320071\n",
            "\n",
            "[mbo] 39: num_iterations=1858; learning_rate=0.0202; feature_fraction=0.374; num_leaves=485; min_data_in_leaf=408 : y = 0.93 : 199.1 secs : infill_ei\n",
            "\n",
            "Fri Sep 26 22:21:19 2025 AUC 0.930771454257559\n",
            "\n",
            "[mbo] 40: num_iterations=1958; learning_rate=0.0144; feature_fraction=0.24; num_leaves=234; min_data_in_leaf=678 : y = 0.931 : 155.9 secs : infill_ei\n",
            "\n",
            "Saved the current state after iteration 41 in the file bayesiana.RDATA.\n",
            "\n",
            "Fri Sep 26 22:29:39 2025 AUC 0.925938831027701\n",
            "\n",
            "[mbo] 41: num_iterations=1858; learning_rate=0.0125; feature_fraction=0.971; num_leaves=774; min_data_in_leaf=35 : y = 0.926 : 492.9 secs : infill_ei\n",
            "\n",
            "Fri Sep 26 22:31:19 2025 AUC 0.928261835579593\n",
            "\n",
            "[mbo] 42: num_iterations=1895; learning_rate=0.0185; feature_fraction=0.217; num_leaves=674; min_data_in_leaf=2720 : y = 0.928 : 99.7 secs : infill_ei\n",
            "\n",
            "Fri Sep 26 22:33:17 2025 AUC 0.928831364097198\n",
            "\n",
            "[mbo] 43: num_iterations=1702; learning_rate=0.0466; feature_fraction=0.585; num_leaves=64; min_data_in_leaf=1350 : y = 0.929 : 117.8 secs : infill_ei\n",
            "\n",
            "Saved the current state after iteration 44 in the file bayesiana.RDATA.\n",
            "\n",
            "Fri Sep 26 22:34:41 2025 AUC 0.930791268525076\n",
            "\n",
            "[mbo] 44: num_iterations=1210; learning_rate=0.0106; feature_fraction=0.601; num_leaves=39; min_data_in_leaf=673 : y = 0.931 : 76.3 secs : infill_ei\n",
            "\n",
            "Fri Sep 26 22:36:35 2025 AUC 0.9269106192936\n",
            "\n",
            "[mbo] 45: num_iterations=1667; learning_rate=0.0837; feature_fraction=0.199; num_leaves=863; min_data_in_leaf=1153 : y = 0.927 : 114.0 secs : infill_ei\n",
            "\n",
            "Fri Sep 26 22:38:03 2025 AUC 0.929789347607966\n",
            "\n",
            "[mbo] 46: num_iterations=1231; learning_rate=0.0125; feature_fraction=0.37; num_leaves=161; min_data_in_leaf=1191 : y = 0.93 : 87.8 secs : infill_ei\n",
            "\n",
            "Fri Sep 26 22:40:31 2025 AUC 0.929807462442914\n",
            "\n",
            "[mbo] 47: num_iterations=2040; learning_rate=0.0175; feature_fraction=0.589; num_leaves=59; min_data_in_leaf=641 : y = 0.93 : 146.8 secs : infill_ei\n",
            "\n",
            "Fri Sep 26 22:42:28 2025 AUC 0.928414460855927\n",
            "\n",
            "[mbo] 48: num_iterations=2045; learning_rate=0.0265; feature_fraction=0.317; num_leaves=364; min_data_in_leaf=2979 : y = 0.928 : 116.3 secs : infill_ei\n",
            "\n",
            "Fri Sep 26 22:44:19 2025 AUC 0.930767961561418\n",
            "\n",
            "[mbo] 49: num_iterations=1465; learning_rate=0.0105; feature_fraction=0.802; num_leaves=221; min_data_in_leaf=682 : y = 0.931 : 110.9 secs : infill_ei\n",
            "\n",
            "Saved the current state after iteration 50 in the file bayesiana.RDATA.\n",
            "\n",
            "Fri Sep 26 22:45:27 2025 AUC 0.927502426051234\n",
            "\n",
            "[mbo] 50: num_iterations=1388; learning_rate=0.01; feature_fraction=0.729; num_leaves=249; min_data_in_leaf=2730 : y = 0.928 : 60.2 secs : infill_ei\n",
            "\n",
            "Fri Sep 26 22:46:39 2025 AUC 0.928768897974916\n",
            "\n",
            "[mbo] 51: num_iterations=1099; learning_rate=0.0126; feature_fraction=0.54; num_leaves=22; min_data_in_leaf=1499 : y = 0.929 : 71.8 secs : infill_ei\n",
            "\n",
            "Fri Sep 26 22:49:27 2025 AUC 0.931336616693851\n",
            "\n",
            "[mbo] 52: num_iterations=1824; learning_rate=0.0108; feature_fraction=0.542; num_leaves=895; min_data_in_leaf=890 : y = 0.931 : 167.9 secs : infill_ei\n",
            "\n",
            "Fri Sep 26 22:51:54 2025 AUC 0.930349993668297\n",
            "\n",
            "[mbo] 53: num_iterations=1802; learning_rate=0.01; feature_fraction=0.377; num_leaves=693; min_data_in_leaf=725 : y = 0.93 : 146.2 secs : infill_ei\n",
            "\n",
            "Fri Sep 26 22:54:29 2025 AUC 0.931000208869511\n",
            "\n",
            "[mbo] 54: num_iterations=1872; learning_rate=0.0101; feature_fraction=0.511; num_leaves=1510; min_data_in_leaf=919 : y = 0.931 : 153.7 secs : infill_ei\n",
            "\n",
            "Saved the current state after iteration 55 in the file bayesiana.RDATA.\n",
            "\n",
            "Fri Sep 26 22:55:25 2025 AUC 0.928291983772199\n",
            "\n",
            "[mbo] 55: num_iterations=800; learning_rate=0.0476; feature_fraction=0.555; num_leaves=41; min_data_in_leaf=34 : y = 0.928 : 49.4 secs : infill_ei\n",
            "\n",
            "Fri Sep 26 22:56:56 2025 AUC 0.929450335057626\n",
            "\n",
            "[mbo] 56: num_iterations=1430; learning_rate=0.01; feature_fraction=0.193; num_leaves=517; min_data_in_leaf=898 : y = 0.929 : 90.8 secs : infill_ei\n",
            "\n",
            "Fri Sep 26 22:57:17 2025 AUC 0.930217144096634\n",
            "\n",
            "[mbo] 57: num_iterations=690; learning_rate=0.049; feature_fraction=0.829; num_leaves=11; min_data_in_leaf=677 : y = 0.93 : 20.1 secs : infill_ei\n",
            "\n",
            "Fri Sep 26 22:58:27 2025 AUC 0.927698635895965\n",
            "\n",
            "[mbo] 58: num_iterations=1259; learning_rate=0.0556; feature_fraction=0.288; num_leaves=256; min_data_in_leaf=3176 : y = 0.928 : 69.9 secs : infill_ei\n",
            "\n",
            "Fri Sep 26 22:59:55 2025 AUC 0.929903221167776\n",
            "\n",
            "[mbo] 59: num_iterations=1482; learning_rate=0.0107; feature_fraction=0.871; num_leaves=1102; min_data_in_leaf=1183 : y = 0.93 : 87.2 secs : infill_ei\n",
            "\n",
            "Fri Sep 26 23:02:38 2025 AUC 0.931222293954633\n",
            "\n",
            "[mbo] 60: num_iterations=1856; learning_rate=0.0158; feature_fraction=0.506; num_leaves=1461; min_data_in_leaf=874 : y = 0.931 : 161.9 secs : infill_ei\n",
            "\n",
            "Fri Sep 26 23:06:38 2025 AUC 0.928476714829259\n",
            "\n",
            "[mbo] 61: num_iterations=1469; learning_rate=0.0184; feature_fraction=0.543; num_leaves=280; min_data_in_leaf=65 : y = 0.928 : 239.9 secs : infill_ei\n",
            "\n",
            "Saved the current state after iteration 62 in the file bayesiana.RDATA.\n",
            "\n",
            "Fri Sep 26 23:08:57 2025 AUC 0.929109550468931\n",
            "\n",
            "[mbo] 62: num_iterations=1808; learning_rate=0.0141; feature_fraction=0.589; num_leaves=1996; min_data_in_leaf=1318 : y = 0.929 : 131.9 secs : infill_ei\n",
            "\n",
            "Fri Sep 26 23:11:15 2025 AUC 0.931457237645451\n",
            "\n",
            "[mbo] 63: num_iterations=1932; learning_rate=0.0101; feature_fraction=0.691; num_leaves=1589; min_data_in_leaf=881 : y = 0.931 : 137.2 secs : infill_ei\n",
            "\n",
            "Fri Sep 26 23:13:35 2025 AUC 0.929254810512403\n",
            "\n",
            "[mbo] 64: num_iterations=1821; learning_rate=0.0135; feature_fraction=0.456; num_leaves=1079; min_data_in_leaf=1130 : y = 0.929 : 139.4 secs : infill_ei\n",
            "\n",
            "Fri Sep 26 23:15:50 2025 AUC 0.929511869026265\n",
            "\n",
            "[mbo] 65: num_iterations=1828; learning_rate=0.0111; feature_fraction=0.697; num_leaves=1729; min_data_in_leaf=759 : y = 0.93 : 133.6 secs : infill_ei\n",
            "\n",
            "Fri Sep 26 23:16:53 2025 AUC 0.93083456116556\n",
            "\n",
            "[mbo] 66: num_iterations=1742; learning_rate=0.0138; feature_fraction=0.706; num_leaves=20; min_data_in_leaf=567 : y = 0.931 : 63.1 secs : infill_ei\n",
            "\n",
            "Saved the current state after iteration 67 in the file bayesiana.RDATA.\n",
            "\n",
            "Fri Sep 26 23:19:38 2025 AUC 0.929520978115797\n",
            "\n",
            "[mbo] 67: num_iterations=1886; learning_rate=0.0398; feature_fraction=0.934; num_leaves=1559; min_data_in_leaf=640 : y = 0.93 : 157.1 secs : infill_ei\n",
            "\n",
            "Fri Sep 26 23:21:09 2025 AUC 0.930099364135325\n",
            "\n",
            "[mbo] 68: num_iterations=1801; learning_rate=0.0453; feature_fraction=0.836; num_leaves=42; min_data_in_leaf=566 : y = 0.93 : 91.1 secs : infill_ei\n",
            "\n",
            "Fri Sep 26 23:23:37 2025 AUC 0.930608971800782\n",
            "\n",
            "[mbo] 69: num_iterations=1930; learning_rate=0.0182; feature_fraction=0.355; num_leaves=956; min_data_in_leaf=821 : y = 0.931 : 146.6 secs : infill_ei\n",
            "\n",
            "Fri Sep 26 23:26:18 2025 AUC 0.930995062320259\n",
            "\n",
            "[mbo] 70: num_iterations=1960; learning_rate=0.0155; feature_fraction=0.56; num_leaves=1982; min_data_in_leaf=912 : y = 0.931 : 160.8 secs : infill_ei\n",
            "\n",
            "Fri Sep 26 23:27:54 2025 AUC 0.931311033977208\n",
            "\n",
            "[mbo] 71: num_iterations=1325; learning_rate=0.01; feature_fraction=0.963; num_leaves=116; min_data_in_leaf=877 : y = 0.931 : 95.3 secs : infill_ei\n",
            "\n",
            "Saved the current state after iteration 72 in the file bayesiana.RDATA.\n",
            "\n",
            "Fri Sep 26 23:30:54 2025 AUC 0.930636843832464\n",
            "\n",
            "[mbo] 72: num_iterations=1928; learning_rate=0.0104; feature_fraction=0.587; num_leaves=1230; min_data_in_leaf=651 : y = 0.931 : 172.3 secs : infill_ei\n",
            "\n",
            "Fri Sep 26 23:32:06 2025 AUC 0.929859576596662\n",
            "\n",
            "[mbo] 73: num_iterations=1022; learning_rate=0.01; feature_fraction=0.794; num_leaves=314; min_data_in_leaf=910 : y = 0.93 : 70.8 secs : infill_ei\n",
            "\n",
            "Fri Sep 26 23:34:02 2025 AUC 0.92974750791675\n",
            "\n",
            "[mbo] 74: num_iterations=1257; learning_rate=0.0134; feature_fraction=0.552; num_leaves=1200; min_data_in_leaf=666 : y = 0.93 : 115.7 secs : infill_ei\n",
            "\n",
            "Fri Sep 26 23:35:31 2025 AUC 0.930155209276678\n",
            "\n",
            "[mbo] 75: num_iterations=1294; learning_rate=0.0115; feature_fraction=0.739; num_leaves=1020; min_data_in_leaf=858 : y = 0.93 : 88.6 secs : infill_ei\n",
            "\n",
            "Saved the final state in the file bayesiana.RDATA\n",
            "\n"
          ]
        }
      ],
      "source": [
        "# inicio la optimizacion bayesiana, retomando si ya existe\n",
        "# es la celda mas lenta de todo el notebook\n",
        "\n",
        "if (!file.exists(kbayesiana)) {\n",
        "  bayesiana_salida <- mbo(obj.fun, learner= surr.km, control= ctrl)\n",
        "} else {\n",
        "  bayesiana_salida <- mboContinue(kbayesiana) # retomo en caso que ya exista\n",
        "}"
      ]
    },
    {
      "cell_type": "code",
      "execution_count": 20,
      "metadata": {
        "id": "ssk5nnMk6INK",
        "vscode": {
          "languageId": "r"
        }
      },
      "outputs": [
        {
          "data": {
            "text/html": [
              "<style>\n",
              ".list-inline {list-style: none; margin:0; padding: 0}\n",
              ".list-inline>li {display: inline-block}\n",
              ".list-inline>li:not(:last-child)::after {content: \"\\00b7\"; padding: 0 .5ex}\n",
              "</style>\n",
              "<ol class=list-inline><li>'num_iterations'</li><li>'learning_rate'</li><li>'feature_fraction'</li><li>'num_leaves'</li><li>'min_data_in_leaf'</li><li>'y'</li><li>'dob'</li><li>'eol'</li><li>'error.message'</li><li>'exec.time'</li><li>'ei'</li><li>'error.model'</li><li>'train.time'</li><li>'prop.type'</li><li>'propose.time'</li><li>'se'</li><li>'mean'</li></ol>\n"
            ],
            "text/latex": [
              "\\begin{enumerate*}\n",
              "\\item 'num\\_iterations'\n",
              "\\item 'learning\\_rate'\n",
              "\\item 'feature\\_fraction'\n",
              "\\item 'num\\_leaves'\n",
              "\\item 'min\\_data\\_in\\_leaf'\n",
              "\\item 'y'\n",
              "\\item 'dob'\n",
              "\\item 'eol'\n",
              "\\item 'error.message'\n",
              "\\item 'exec.time'\n",
              "\\item 'ei'\n",
              "\\item 'error.model'\n",
              "\\item 'train.time'\n",
              "\\item 'prop.type'\n",
              "\\item 'propose.time'\n",
              "\\item 'se'\n",
              "\\item 'mean'\n",
              "\\end{enumerate*}\n"
            ],
            "text/markdown": [
              "1. 'num_iterations'\n",
              "2. 'learning_rate'\n",
              "3. 'feature_fraction'\n",
              "4. 'num_leaves'\n",
              "5. 'min_data_in_leaf'\n",
              "6. 'y'\n",
              "7. 'dob'\n",
              "8. 'eol'\n",
              "9. 'error.message'\n",
              "10. 'exec.time'\n",
              "11. 'ei'\n",
              "12. 'error.model'\n",
              "13. 'train.time'\n",
              "14. 'prop.type'\n",
              "15. 'propose.time'\n",
              "16. 'se'\n",
              "17. 'mean'\n",
              "\n",
              "\n"
            ],
            "text/plain": [
              " [1] \"num_iterations\"   \"learning_rate\"    \"feature_fraction\" \"num_leaves\"      \n",
              " [5] \"min_data_in_leaf\" \"y\"                \"dob\"              \"eol\"             \n",
              " [9] \"error.message\"    \"exec.time\"        \"ei\"               \"error.model\"     \n",
              "[13] \"train.time\"       \"prop.type\"        \"propose.time\"     \"se\"              \n",
              "[17] \"mean\"            "
            ]
          },
          "metadata": {},
          "output_type": "display_data"
        }
      ],
      "source": [
        "\n",
        "tb_bayesiana <- as.data.table(bayesiana_salida$opt.path)\n",
        "colnames( tb_bayesiana)"
      ]
    },
    {
      "cell_type": "code",
      "execution_count": 21,
      "metadata": {
        "id": "u4zq-vknhjGc",
        "vscode": {
          "languageId": "r"
        }
      },
      "outputs": [],
      "source": [
        "# almaceno los resultados de la Bayesian Optimization\n",
        "# y capturo los mejores hiperparametros encontrados\n",
        "\n",
        "tb_bayesiana <- as.data.table(bayesiana_salida$opt.path)\n",
        "\n",
        "tb_bayesiana[, iter := .I]\n",
        "\n",
        "# ordeno en forma descendente por AUC = y\n",
        "setorder(tb_bayesiana, -y)\n",
        "\n",
        "# grabo para eventualmente poder utilizarlos en OTRA corrida\n",
        "fwrite( tb_bayesiana,\n",
        "  file= \"BO_log.txt\",\n",
        "  sep= \"\\t\"\n",
        ")\n",
        "\n",
        "# los mejores hiperparámetros son los que quedaron en el registro 1 de la tabla\n",
        "PARAM$out$lgbm$mejores_hiperparametros <- tb_bayesiana[\n",
        "  1, # el primero es el de mejor AUC\n",
        "  setdiff(colnames(tb_bayesiana),\n",
        "    c(\"y\",\"dob\",\"eol\",\"error.message\",\"exec.time\",\"ei\",\"error.model\",\n",
        "      \"train.time\",\"prop.type\",\"propose.time\",\"se\",\"mean\",\"iter\")),\n",
        "  with= FALSE\n",
        "]\n",
        "\n",
        "\n",
        "PARAM$out$lgbm$y <- tb_bayesiana[1, y]\n"
      ]
    },
    {
      "cell_type": "code",
      "execution_count": 22,
      "metadata": {
        "id": "E8v2eA427N8e",
        "vscode": {
          "languageId": "r"
        }
      },
      "outputs": [],
      "source": [
        "write_yaml( PARAM, file=\"PARAM.yml\")"
      ]
    },
    {
      "cell_type": "code",
      "execution_count": 23,
      "metadata": {
        "id": "iBTWexVU7PGC",
        "vscode": {
          "languageId": "r"
        }
      },
      "outputs": [
        {
          "name": "stdout",
          "output_type": "stream",
          "text": [
            "   num_iterations learning_rate feature_fraction num_leaves min_data_in_leaf\n",
            "            <int>         <num>            <num>      <int>            <int>\n",
            "1:           1932    0.01006528        0.6909019       1589              881\n",
            "[1] 0.9314572\n"
          ]
        }
      ],
      "source": [
        "print(PARAM$out$lgbm$mejores_hiperparametros)\n",
        "print(PARAM$out$lgbm$y)"
      ]
    },
    {
      "cell_type": "markdown",
      "metadata": {
        "id": "TKsVZmAnhwX-"
      },
      "source": [
        "## 2.3  Produccion"
      ]
    },
    {
      "cell_type": "markdown",
      "metadata": {
        "id": "RQ_C33Tr5B_9"
      },
      "source": [
        "### Final Training\n",
        "Construyo el modelo final, que es uno solo, no hace ningun tipo de particion < training, validation, testing>]"
      ]
    },
    {
      "cell_type": "code",
      "execution_count": 24,
      "metadata": {
        "id": "eDqfyA14hzwv",
        "vscode": {
          "languageId": "r"
        }
      },
      "outputs": [],
      "source": [
        "setwd(\"/content/buckets/b1/exp\")\n",
        "experimento <- paste0(\"exp\", PARAM$experimento)\n",
        "dir.create(experimento, showWarnings= FALSE)\n",
        "setwd( paste0(\"/content/buckets/b1/exp/\", experimento ))"
      ]
    },
    {
      "cell_type": "markdown",
      "metadata": {
        "id": "8qFmFivf5Iet"
      },
      "source": [
        "#### Final Training Dataset\n",
        "\n",
        "Aqui esta la gran decision de en qué meses hago el Final Training\n",
        "<br> debo utilizar los mejores hiperparámetros que encontré en la optimización bayesiana"
      ]
    },
    {
      "cell_type": "code",
      "execution_count": 25,
      "metadata": {
        "id": "lg5WVZncvc7H",
        "vscode": {
          "languageId": "r"
        }
      },
      "outputs": [],
      "source": [
        "# clase01\n",
        "dataset[, clase01 := ifelse(clase_ternaria %in% c(\"BAJA+1\", \"BAJA+2\"), 1L, 0L)]"
      ]
    },
    {
      "cell_type": "code",
      "execution_count": 26,
      "metadata": {
        "id": "yc9QzXREv0xf",
        "vscode": {
          "languageId": "r"
        }
      },
      "outputs": [],
      "source": [
        "dataset_train <- dataset[foto_mes %in% c(202107)]"
      ]
    },
    {
      "cell_type": "code",
      "execution_count": 27,
      "metadata": {
        "id": "thjdqEBLuvNt",
        "vscode": {
          "languageId": "r"
        }
      },
      "outputs": [],
      "source": [
        "# dejo los datos en el formato que necesita LightGBM\n",
        "\n",
        "dtrain <- lgb.Dataset(\n",
        "  data= data.matrix(dataset_train[, campos_buenos, with= FALSE]),\n",
        "  label= dataset_train[, clase01]\n",
        ")"
      ]
    },
    {
      "cell_type": "markdown",
      "metadata": {
        "id": "VNUa-WSz5Oqu"
      },
      "source": [
        "#### Final Training Hyperparameters"
      ]
    },
    {
      "cell_type": "code",
      "execution_count": 28,
      "metadata": {
        "id": "FgCcvBfEwImu",
        "vscode": {
          "languageId": "r"
        }
      },
      "outputs": [
        {
          "data": {
            "text/html": [
              "<dl>\n",
              "\t<dt>$boosting</dt>\n",
              "\t\t<dd>'gbdt'</dd>\n",
              "\t<dt>$objective</dt>\n",
              "\t\t<dd>'binary'</dd>\n",
              "\t<dt>$metric</dt>\n",
              "\t\t<dd>'auc'</dd>\n",
              "\t<dt>$first_metric_only</dt>\n",
              "\t\t<dd>FALSE</dd>\n",
              "\t<dt>$boost_from_average</dt>\n",
              "\t\t<dd>TRUE</dd>\n",
              "\t<dt>$feature_pre_filter</dt>\n",
              "\t\t<dd>FALSE</dd>\n",
              "\t<dt>$force_row_wise</dt>\n",
              "\t\t<dd>TRUE</dd>\n",
              "\t<dt>$verbosity</dt>\n",
              "\t\t<dd>-100</dd>\n",
              "\t<dt>$seed</dt>\n",
              "\t\t<dd>107827</dd>\n",
              "\t<dt>$max_depth</dt>\n",
              "\t\t<dd>-1</dd>\n",
              "\t<dt>$min_gain_to_split</dt>\n",
              "\t\t<dd>0</dd>\n",
              "\t<dt>$min_sum_hessian_in_leaf</dt>\n",
              "\t\t<dd>0.001</dd>\n",
              "\t<dt>$lambda_l1</dt>\n",
              "\t\t<dd>0</dd>\n",
              "\t<dt>$lambda_l2</dt>\n",
              "\t\t<dd>0</dd>\n",
              "\t<dt>$max_bin</dt>\n",
              "\t\t<dd>31</dd>\n",
              "\t<dt>$bagging_fraction</dt>\n",
              "\t\t<dd>1</dd>\n",
              "\t<dt>$pos_bagging_fraction</dt>\n",
              "\t\t<dd>1</dd>\n",
              "\t<dt>$neg_bagging_fraction</dt>\n",
              "\t\t<dd>1</dd>\n",
              "\t<dt>$is_unbalance</dt>\n",
              "\t\t<dd>FALSE</dd>\n",
              "\t<dt>$scale_pos_weight</dt>\n",
              "\t\t<dd>1</dd>\n",
              "\t<dt>$drop_rate</dt>\n",
              "\t\t<dd>0.1</dd>\n",
              "\t<dt>$max_drop</dt>\n",
              "\t\t<dd>50</dd>\n",
              "\t<dt>$skip_drop</dt>\n",
              "\t\t<dd>0.5</dd>\n",
              "\t<dt>$extra_trees</dt>\n",
              "\t\t<dd>FALSE</dd>\n",
              "\t<dt>$num_iterations</dt>\n",
              "\t\t<dd>1932</dd>\n",
              "\t<dt>$learning_rate</dt>\n",
              "\t\t<dd>0.0100652802026128</dd>\n",
              "\t<dt>$feature_fraction</dt>\n",
              "\t\t<dd>0.690901898411086</dd>\n",
              "\t<dt>$num_leaves</dt>\n",
              "\t\t<dd>1589</dd>\n",
              "\t<dt>$min_data_in_leaf</dt>\n",
              "\t\t<dd>881</dd>\n",
              "</dl>\n"
            ],
            "text/latex": [
              "\\begin{description}\n",
              "\\item[\\$boosting] 'gbdt'\n",
              "\\item[\\$objective] 'binary'\n",
              "\\item[\\$metric] 'auc'\n",
              "\\item[\\$first\\_metric\\_only] FALSE\n",
              "\\item[\\$boost\\_from\\_average] TRUE\n",
              "\\item[\\$feature\\_pre\\_filter] FALSE\n",
              "\\item[\\$force\\_row\\_wise] TRUE\n",
              "\\item[\\$verbosity] -100\n",
              "\\item[\\$seed] 107827\n",
              "\\item[\\$max\\_depth] -1\n",
              "\\item[\\$min\\_gain\\_to\\_split] 0\n",
              "\\item[\\$min\\_sum\\_hessian\\_in\\_leaf] 0.001\n",
              "\\item[\\$lambda\\_l1] 0\n",
              "\\item[\\$lambda\\_l2] 0\n",
              "\\item[\\$max\\_bin] 31\n",
              "\\item[\\$bagging\\_fraction] 1\n",
              "\\item[\\$pos\\_bagging\\_fraction] 1\n",
              "\\item[\\$neg\\_bagging\\_fraction] 1\n",
              "\\item[\\$is\\_unbalance] FALSE\n",
              "\\item[\\$scale\\_pos\\_weight] 1\n",
              "\\item[\\$drop\\_rate] 0.1\n",
              "\\item[\\$max\\_drop] 50\n",
              "\\item[\\$skip\\_drop] 0.5\n",
              "\\item[\\$extra\\_trees] FALSE\n",
              "\\item[\\$num\\_iterations] 1932\n",
              "\\item[\\$learning\\_rate] 0.0100652802026128\n",
              "\\item[\\$feature\\_fraction] 0.690901898411086\n",
              "\\item[\\$num\\_leaves] 1589\n",
              "\\item[\\$min\\_data\\_in\\_leaf] 881\n",
              "\\end{description}\n"
            ],
            "text/markdown": [
              "$boosting\n",
              ":   'gbdt'\n",
              "$objective\n",
              ":   'binary'\n",
              "$metric\n",
              ":   'auc'\n",
              "$first_metric_only\n",
              ":   FALSE\n",
              "$boost_from_average\n",
              ":   TRUE\n",
              "$feature_pre_filter\n",
              ":   FALSE\n",
              "$force_row_wise\n",
              ":   TRUE\n",
              "$verbosity\n",
              ":   -100\n",
              "$seed\n",
              ":   107827\n",
              "$max_depth\n",
              ":   -1\n",
              "$min_gain_to_split\n",
              ":   0\n",
              "$min_sum_hessian_in_leaf\n",
              ":   0.001\n",
              "$lambda_l1\n",
              ":   0\n",
              "$lambda_l2\n",
              ":   0\n",
              "$max_bin\n",
              ":   31\n",
              "$bagging_fraction\n",
              ":   1\n",
              "$pos_bagging_fraction\n",
              ":   1\n",
              "$neg_bagging_fraction\n",
              ":   1\n",
              "$is_unbalance\n",
              ":   FALSE\n",
              "$scale_pos_weight\n",
              ":   1\n",
              "$drop_rate\n",
              ":   0.1\n",
              "$max_drop\n",
              ":   50\n",
              "$skip_drop\n",
              ":   0.5\n",
              "$extra_trees\n",
              ":   FALSE\n",
              "$num_iterations\n",
              ":   1932\n",
              "$learning_rate\n",
              ":   0.0100652802026128\n",
              "$feature_fraction\n",
              ":   0.690901898411086\n",
              "$num_leaves\n",
              ":   1589\n",
              "$min_data_in_leaf\n",
              ":   881\n",
              "\n",
              "\n"
            ],
            "text/plain": [
              "$boosting\n",
              "[1] \"gbdt\"\n",
              "\n",
              "$objective\n",
              "[1] \"binary\"\n",
              "\n",
              "$metric\n",
              "[1] \"auc\"\n",
              "\n",
              "$first_metric_only\n",
              "[1] FALSE\n",
              "\n",
              "$boost_from_average\n",
              "[1] TRUE\n",
              "\n",
              "$feature_pre_filter\n",
              "[1] FALSE\n",
              "\n",
              "$force_row_wise\n",
              "[1] TRUE\n",
              "\n",
              "$verbosity\n",
              "[1] -100\n",
              "\n",
              "$seed\n",
              "[1] 107827\n",
              "\n",
              "$max_depth\n",
              "[1] -1\n",
              "\n",
              "$min_gain_to_split\n",
              "[1] 0\n",
              "\n",
              "$min_sum_hessian_in_leaf\n",
              "[1] 0.001\n",
              "\n",
              "$lambda_l1\n",
              "[1] 0\n",
              "\n",
              "$lambda_l2\n",
              "[1] 0\n",
              "\n",
              "$max_bin\n",
              "[1] 31\n",
              "\n",
              "$bagging_fraction\n",
              "[1] 1\n",
              "\n",
              "$pos_bagging_fraction\n",
              "[1] 1\n",
              "\n",
              "$neg_bagging_fraction\n",
              "[1] 1\n",
              "\n",
              "$is_unbalance\n",
              "[1] FALSE\n",
              "\n",
              "$scale_pos_weight\n",
              "[1] 1\n",
              "\n",
              "$drop_rate\n",
              "[1] 0.1\n",
              "\n",
              "$max_drop\n",
              "[1] 50\n",
              "\n",
              "$skip_drop\n",
              "[1] 0.5\n",
              "\n",
              "$extra_trees\n",
              "[1] FALSE\n",
              "\n",
              "$num_iterations\n",
              "[1] 1932\n",
              "\n",
              "$learning_rate\n",
              "[1] 0.01006528\n",
              "\n",
              "$feature_fraction\n",
              "[1] 0.6909019\n",
              "\n",
              "$num_leaves\n",
              "[1] 1589\n",
              "\n",
              "$min_data_in_leaf\n",
              "[1] 881\n"
            ]
          },
          "metadata": {},
          "output_type": "display_data"
        }
      ],
      "source": [
        "param_final <- modifyList(PARAM$lgbm$param_fijos,\n",
        "  PARAM$out$lgbm$mejores_hiperparametros)\n",
        "\n",
        "param_final"
      ]
    },
    {
      "cell_type": "markdown",
      "metadata": {
        "id": "TZIYn4l95TBH"
      },
      "source": [
        "#### Training\n",
        "Genero el modelo final, siempre sobre TODOS los datos de  final_train, sin hacer ningun tipo de undersampling de la clase mayoritaria"
      ]
    },
    {
      "cell_type": "code",
      "execution_count": 29,
      "metadata": {
        "id": "vPLsd4mMRe4u",
        "vscode": {
          "languageId": "r"
        }
      },
      "outputs": [],
      "source": [
        "# este punto es muy SUTIL  y será revisado en la Clase 05\n",
        "\n",
        "param_normalizado <- copy(param_final)\n",
        "param_normalizado$min_data_in_leaf <-  round(param_final$min_data_in_leaf / PARAM$trainingstrategy$undersampling)"
      ]
    },
    {
      "cell_type": "code",
      "execution_count": 30,
      "metadata": {
        "id": "WRI_-taRwOXO",
        "vscode": {
          "languageId": "r"
        }
      },
      "outputs": [],
      "source": [
        "  # entreno LightGBM\n",
        "\n",
        "  modelo_final <- lgb.train(\n",
        "    data= dtrain,\n",
        "    param= param_normalizado\n",
        "  )"
      ]
    },
    {
      "cell_type": "code",
      "execution_count": 31,
      "metadata": {
        "id": "_bkhnCvj0g3Q",
        "vscode": {
          "languageId": "r"
        }
      },
      "outputs": [],
      "source": [
        "# ahora imprimo la importancia de variables\n",
        "\n",
        "tb_importancia <- as.data.table(lgb.importance(modelo_final))\n",
        "archivo_importancia <- \"impo.txt\"\n",
        "\n",
        "fwrite(tb_importancia,\n",
        "  file= archivo_importancia,\n",
        "  sep= \"\\t\"\n",
        ")"
      ]
    },
    {
      "cell_type": "code",
      "execution_count": 32,
      "metadata": {
        "id": "lZ3sLmbh0kFj",
        "vscode": {
          "languageId": "r"
        }
      },
      "outputs": [],
      "source": [
        "# grabo a disco el modelo en un formato para seres humanos ... ponele ...\n",
        "\n",
        "lgb.save(modelo_final, \"modelo.txt\" )"
      ]
    },
    {
      "cell_type": "markdown",
      "metadata": {
        "id": "VEtp2--t5Ymg"
      },
      "source": [
        "### Scoring"
      ]
    },
    {
      "cell_type": "markdown",
      "metadata": {
        "id": "hI5008Mj5ZdI"
      },
      "source": [
        "Aplico el modelo final a los datos del futuro"
      ]
    },
    {
      "cell_type": "code",
      "execution_count": 33,
      "metadata": {
        "id": "PimBY3N_0ryP",
        "vscode": {
          "languageId": "r"
        }
      },
      "outputs": [],
      "source": [
        "# aplico el modelo a los datos sin clase\n",
        "dfuture <- dataset[foto_mes == 202109]\n",
        "\n",
        "# aplico el modelo a los datos nuevos\n",
        "prediccion <- predict(\n",
        "  modelo_final,\n",
        "  data.matrix(dfuture[, campos_buenos, with= FALSE])\n",
        ")"
      ]
    },
    {
      "cell_type": "markdown",
      "metadata": {
        "id": "D26rNRh55gpw"
      },
      "source": [
        "#### Tabla Prediccion"
      ]
    },
    {
      "cell_type": "code",
      "execution_count": 37,
      "metadata": {
        "id": "RJwg7LHd11yu",
        "vscode": {
          "languageId": "r"
        }
      },
      "outputs": [],
      "source": [
        "# tabla de prediccion\n",
        "\n",
        "tb_prediccion <- dfuture[, list(numero_de_cliente)]\n",
        "tb_prediccion[, prob := prediccion ]\n",
        "\n",
        "# grabo las probabilidad del modelo\n",
        "fwrite(tb_prediccion,\n",
        "  file= \"prediccion.txt\",\n",
        "  sep= \"\\t\"\n",
        ")"
      ]
    },
    {
      "cell_type": "markdown",
      "metadata": {
        "id": "jOt4eG_55ltv"
      },
      "source": [
        "Kaggle Competition Submit"
      ]
    },
    {
      "cell_type": "code",
      "execution_count": 39,
      "metadata": {
        "id": "gWW3tatE12je",
        "vscode": {
          "languageId": "r"
        }
      },
      "outputs": [
        {
          "name": "stderr",
          "output_type": "stream",
          "text": [
            "Warning message in dir.create(\"kaggle\"):\n",
            "“'kaggle' already exists”\n"
          ]
        },
        {
          "name": "stdout",
          "output_type": "stream",
          "text": [
            "Successfully submitted to LaboI 2025 BA analista sr \n",
            "Successfully submitted to LaboI 2025 BA analista sr \n",
            "Successfully submitted to LaboI 2025 BA analista sr \n",
            "Successfully submitted to LaboI 2025 BA analista sr \n",
            "Successfully submitted to LaboI 2025 BA analista sr \n"
          ]
        }
      ],
      "source": [
        "# genero archivos con los  \"envios\" mejores\n",
        "# suba TODOS los archivos a Kaggle\n",
        "\n",
        "# ordeno por probabilidad descendente\n",
        "setorder(tb_prediccion, -prob)\n",
        "\n",
        "dir.create(\"kaggle\")\n",
        "\n",
        "for (envios in PARAM$kaggle$cortes) {\n",
        "\n",
        "  tb_prediccion[, Predicted := 0L] # seteo inicial a 0\n",
        "  tb_prediccion[1:envios, Predicted := 1L] # marclo los primeros\n",
        "\n",
        "  archivo_kaggle <- paste0(\"./kaggle/KA\", PARAM$experimento, \"_\", envios, \".csv\")\n",
        "\n",
        "  # grabo el archivo\n",
        "  fwrite(tb_prediccion[, list(numero_de_cliente, Predicted)],\n",
        "    file= archivo_kaggle,\n",
        "    sep= \",\"\n",
        "  )\n",
        "\n",
        "  # subida a Kaggle, armo la linea de comando\n",
        "  comando <- \"kaggle competitions submit\"\n",
        "  competencia <- paste(\"-c\", PARAM$kaggle$competencia)\n",
        "  arch <- paste( \"-f\", archivo_kaggle)\n",
        "\n",
        "  mensaje <- paste0(\"-m 'envios=\", envios,\n",
        "  \"  semilla=\", PARAM$semilla_primigenia,\n",
        "    \"'\" )\n",
        "\n",
        "  linea <- paste( comando, competencia, arch, mensaje)\n",
        "\n",
        "  salida <- system(linea, intern=TRUE) # el submit a Kaggle\n",
        "  cat(salida, \"\\n\")\n",
        "  Sys.sleep(45)\n",
        "}"
      ]
    },
    {
      "cell_type": "code",
      "execution_count": 40,
      "metadata": {
        "id": "B9tB2X4439Hg",
        "vscode": {
          "languageId": "r"
        }
      },
      "outputs": [],
      "source": [
        "write_yaml( PARAM, file=\"PARAM.yml\")"
      ]
    },
    {
      "cell_type": "code",
      "execution_count": 41,
      "metadata": {
        "id": "9zA_W25c15DP",
        "vscode": {
          "languageId": "r"
        }
      },
      "outputs": [
        {
          "data": {
            "text/html": [
              "'Fri Sep 26 23:52:20 2025'"
            ],
            "text/latex": [
              "'Fri Sep 26 23:52:20 2025'"
            ],
            "text/markdown": [
              "'Fri Sep 26 23:52:20 2025'"
            ],
            "text/plain": [
              "[1] \"Fri Sep 26 23:52:20 2025\""
            ]
          },
          "metadata": {},
          "output_type": "display_data"
        }
      ],
      "source": [
        "format(Sys.time(), \"%a %b %d %X %Y\")"
      ]
    },
    {
      "cell_type": "code",
      "execution_count": 43,
      "metadata": {
        "vscode": {
          "languageId": "r"
        }
      },
      "outputs": [
        {
          "data": {
            "text/html": [
              "'/home/giulianasalvaro/buckets/b1/exp/exp4940'"
            ],
            "text/latex": [
              "'/home/giulianasalvaro/buckets/b1/exp/exp4940'"
            ],
            "text/markdown": [
              "'/home/giulianasalvaro/buckets/b1/exp/exp4940'"
            ],
            "text/plain": [
              "[1] \"/home/giulianasalvaro/buckets/b1/exp/exp4940\""
            ]
          },
          "metadata": {},
          "output_type": "display_data"
        }
      ],
      "source": [
        "getwd()"
      ]
    },
    {
      "cell_type": "markdown",
      "metadata": {
        "id": "UdVZucdLHzZ0"
      },
      "source": [
        "Finalmente usted deberá cargar el resultado de su corrida en la Google Sheet Colaborativa,  hoja **TareaHogar04**\n",
        "<br> Siéntase libre de agregar las columnas que hagan falta a la planilla"
      ]
    }
  ],
  "metadata": {
    "colab": {
      "provenance": []
    },
    "kernelspec": {
      "display_name": "R",
      "language": "R",
      "name": "ir"
    },
    "language_info": {
      "codemirror_mode": "r",
      "file_extension": ".r",
      "mimetype": "text/x-r-source",
      "name": "R",
      "pygments_lexer": "r",
      "version": "4.4.3"
    }
  },
  "nbformat": 4,
  "nbformat_minor": 0
}
