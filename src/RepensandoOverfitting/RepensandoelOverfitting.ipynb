{
  "cells": [
    {
      "cell_type": "markdown",
      "metadata": {
        "id": "kgJ0E--L0n9s"
      },
      "source": [
        "# 5. Repensando el Overfitting"
      ]
    },
    {
      "cell_type": "markdown",
      "metadata": {
        "id": "3m0ySYPfa7Zr"
      },
      "source": [
        "#### 5.1 Seteo del ambiente en Google Colab"
      ]
    },
    {
      "cell_type": "markdown",
      "metadata": {
        "id": "NGY7H9xza7Zr"
      },
      "source": [
        "Esta parte se debe correr con el runtime en Python3\n",
        "<br>Ir al menu, Runtime -> Change Runtime Type -> Runtime type ->  **Python 3**"
      ]
    },
    {
      "cell_type": "markdown",
      "metadata": {
        "id": "7PupIBNba7Zr"
      },
      "source": [
        "Conectar la virtual machine donde esta corriendo Google Colab con el  Google Drive, para poder tener persistencia de archivos"
      ]
    },
    {
      "cell_type": "code",
      "execution_count": null,
      "metadata": {
        "id": "9LpZCst5a7Zs",
        "vscode": {
          "languageId": "r"
        }
      },
      "outputs": [],
      "source": [
        "# primero establecer el Runtime de Python 3\n",
        "from google.colab import drive\n",
        "drive.mount('/content/.drive')"
      ]
    },
    {
      "cell_type": "markdown",
      "metadata": {
        "id": "JYC_F-wla7Zs"
      },
      "source": [
        "Para correr la siguiente celda es fundamental en Arranque en Frio haber copiado el archivo kaggle.json al Google Drive, en la carpeta indicada en el instructivo\n",
        "\n",
        "<br>los siguientes comando estan en shell script de Linux\n",
        "*   Crear las carpetas en el Google Drive\n",
        "*   \"instalar\" el archivo kaggle.json desde el Google Drive a la virtual machine para que pueda ser utilizado por la libreria  kaggle de Python\n",
        "*   Bajar el  **dataset_pequeno**  al  Google Drive  y tambien al disco local de la virtual machine que esta corriendo Google Colab\n",
        "\n"
      ]
    },
    {
      "cell_type": "code",
      "execution_count": null,
      "metadata": {
        "id": "XWLelftXa7Zt",
        "vscode": {
          "languageId": "r"
        }
      },
      "outputs": [],
      "source": [
        "%%shell\n",
        "\n",
        "mkdir -p \"/content/.drive/My Drive/labo1\"\n",
        "mkdir -p \"/content/buckets\"\n",
        "ln -s \"/content/.drive/My Drive/labo1\" /content/buckets/b1\n",
        "\n",
        "mkdir -p ~/.kaggle\n",
        "cp /content/buckets/b1/kaggle/kaggle.json  ~/.kaggle\n",
        "chmod 600 ~/.kaggle/kaggle.json\n",
        "\n",
        "\n",
        "mkdir -p /content/buckets/b1/exp\n",
        "mkdir -p /content/buckets/b1/datasets\n",
        "mkdir -p /content/datasets\n",
        "\n",
        "\n",
        "\n",
        "archivo_origen=\"https://storage.googleapis.com/open-courses/austral2025-af91/dataset_pequeno.csv\"\n",
        "archivo_destino=\"/content/datasets/dataset_pequeno.csv\"\n",
        "archivo_destino_bucket=\"/content/buckets/b1/datasets/dataset_pequeno.csv\"\n",
        "\n",
        "if ! test -f $archivo_destino_bucket; then\n",
        "  wget  $archivo_origen  -O $archivo_destino_bucket\n",
        "fi\n",
        "\n",
        "\n",
        "if ! test -f $archivo_destino; then\n",
        "  cp  $archivo_destino_bucket  $archivo_destino\n",
        "fi\n",
        "\n"
      ]
    },
    {
      "cell_type": "markdown",
      "metadata": {
        "id": "Pc9x9DnsNlZv"
      },
      "source": [
        "\n",
        "\n",
        "---\n",
        "\n"
      ]
    },
    {
      "cell_type": "markdown",
      "metadata": {
        "id": "qq0KVOtq1K5D"
      },
      "source": [
        "## 5.2 rpart  Canaritos"
      ]
    },
    {
      "cell_type": "markdown",
      "metadata": {
        "id": "0c7kTdNi-_KR"
      },
      "source": [
        "Se agregarán canaritos al dataset, se entrenará el arbol con los mejores hiperparámetros encontrados, y se analizará si los canaritos aparecen en algun split."
      ]
    },
    {
      "cell_type": "markdown",
      "metadata": {
        "id": "JxhSJ-oqb-r6"
      },
      "source": [
        "Esta parte se debe correr con el runtime en lenguaje **R** Ir al menu, Runtime -> Change Runtime Type -> Runtime type -> R"
      ]
    },
    {
      "cell_type": "markdown",
      "metadata": {
        "id": "ls15rN6Ob-r7"
      },
      "source": [
        "limpio el ambiente de R"
      ]
    },
    {
      "cell_type": "code",
      "execution_count": 1,
      "metadata": {
        "id": "QrRq-FePb-r7",
        "vscode": {
          "languageId": "r"
        }
      },
      "outputs": [
        {
          "data": {
            "text/html": [
              "<table class=\"dataframe\">\n",
              "<caption>A matrix: 2 × 6 of type dbl</caption>\n",
              "<thead>\n",
              "\t<tr><th></th><th scope=col>used</th><th scope=col>(Mb)</th><th scope=col>gc trigger</th><th scope=col>(Mb)</th><th scope=col>max used</th><th scope=col>(Mb)</th></tr>\n",
              "</thead>\n",
              "<tbody>\n",
              "\t<tr><th scope=row>Ncells</th><td> 653331</td><td>34.9</td><td>1439362</td><td>76.9</td><td>1081631</td><td>57.8</td></tr>\n",
              "\t<tr><th scope=row>Vcells</th><td>1216762</td><td> 9.3</td><td>8388608</td><td>64.0</td><td>1924961</td><td>14.7</td></tr>\n",
              "</tbody>\n",
              "</table>\n"
            ],
            "text/latex": [
              "A matrix: 2 × 6 of type dbl\n",
              "\\begin{tabular}{r|llllll}\n",
              "  & used & (Mb) & gc trigger & (Mb) & max used & (Mb)\\\\\n",
              "\\hline\n",
              "\tNcells &  653331 & 34.9 & 1439362 & 76.9 & 1081631 & 57.8\\\\\n",
              "\tVcells & 1216762 &  9.3 & 8388608 & 64.0 & 1924961 & 14.7\\\\\n",
              "\\end{tabular}\n"
            ],
            "text/markdown": [
              "\n",
              "A matrix: 2 × 6 of type dbl\n",
              "\n",
              "| <!--/--> | used | (Mb) | gc trigger | (Mb) | max used | (Mb) |\n",
              "|---|---|---|---|---|---|---|\n",
              "| Ncells |  653331 | 34.9 | 1439362 | 76.9 | 1081631 | 57.8 |\n",
              "| Vcells | 1216762 |  9.3 | 8388608 | 64.0 | 1924961 | 14.7 |\n",
              "\n"
            ],
            "text/plain": [
              "       used    (Mb) gc trigger (Mb) max used (Mb)\n",
              "Ncells  653331 34.9 1439362    76.9 1081631  57.8\n",
              "Vcells 1216762  9.3 8388608    64.0 1924961  14.7"
            ]
          },
          "metadata": {},
          "output_type": "display_data"
        }
      ],
      "source": [
        "# limpio la memoria\n",
        "rm(list=ls(all.names=TRUE)) # remove all objects\n",
        "gc(full=TRUE, verbose=FALSE) # garbage collection"
      ]
    },
    {
      "cell_type": "code",
      "execution_count": 2,
      "metadata": {
        "id": "IIeRpVlZb-r8",
        "vscode": {
          "languageId": "r"
        }
      },
      "outputs": [
        {
          "name": "stderr",
          "output_type": "stream",
          "text": [
            "Loading required package: data.table\n",
            "\n",
            "Loading required package: rpart\n",
            "\n",
            "Loading required package: rpart.plot\n",
            "\n"
          ]
        }
      ],
      "source": [
        "# cargo las librerias que necesito\n",
        "require(\"data.table\")\n",
        "require(\"rpart\")\n",
        "if(!require(\"rpart.plot\")) install.packages(\"rpart.plot\")\n",
        "require(\"rpart.plot\")"
      ]
    },
    {
      "cell_type": "markdown",
      "metadata": {
        "id": "H1ZzAj6S4DUF"
      },
      "source": [
        "### 5.2.1  carga manual de hipoerparámetros\n",
        "Aqui debe cargar SU semilla primigenia y\n",
        "<br> SUS mejores hiperparámetros que encontró para el ARBOL DE DECISION, ya sea por Grid Search o  Bayesian Optimization"
      ]
    },
    {
      "cell_type": "code",
      "execution_count": 3,
      "metadata": {
        "id": "2qpjKn_e4H9l",
        "vscode": {
          "languageId": "r"
        }
      },
      "outputs": [],
      "source": [
        "PARAM <- list()\n",
        "PARAM$semilla_primigenia <- 107827\n",
        "\n",
        "PARAM$rpart$cp <- -1\n",
        "PARAM$rpart$minsplit <- 350\n",
        "PARAM$rpart$minbucket <- 150\n",
        "PARAM$rpart$maxdepth <- 7"
      ]
    },
    {
      "cell_type": "code",
      "execution_count": 4,
      "metadata": {
        "id": "3Wb-iYIGb-r8",
        "vscode": {
          "languageId": "r"
        }
      },
      "outputs": [],
      "source": [
        "# carpeta de trabajo\n",
        "setwd(\"/content/buckets/b1/exp\")\n",
        "experimento <- \"exp5200\"\n",
        "dir.create(experimento, showWarnings=FALSE)\n",
        "setwd( paste0(\"/content/buckets/b1/exp/\", experimento ))"
      ]
    },
    {
      "cell_type": "code",
      "execution_count": 5,
      "metadata": {
        "id": "SL7gcMhG7mwv",
        "vscode": {
          "languageId": "r"
        }
      },
      "outputs": [],
      "source": [
        "# lectura del dataset\n",
        "dataset <- fread(\"/content/datasets/dataset_pequeno.csv\")"
      ]
    },
    {
      "cell_type": "code",
      "execution_count": 6,
      "metadata": {
        "id": "BHlykx9-8NA_",
        "vscode": {
          "languageId": "r"
        }
      },
      "outputs": [],
      "source": [
        "# me quedo solo con los datos de julio\n",
        "dataset <- dataset[ foto_mes==202107,]"
      ]
    },
    {
      "cell_type": "code",
      "execution_count": 7,
      "metadata": {
        "id": "72z4891K1z_E",
        "vscode": {
          "languageId": "r"
        }
      },
      "outputs": [],
      "source": [
        "# uso esta semilla para los canaritos\n",
        "set.seed(PARAM$semila_primigenia)\n",
        "\n",
        "# agrego los siguientes canaritos\n",
        "for( i in 1:154 ) dataset[ , paste0(\"canarito\", i ) :=  runif( nrow(dataset)) ]"
      ]
    },
    {
      "cell_type": "code",
      "execution_count": 8,
      "metadata": {
        "id": "xfaO_ozD4Y0N",
        "vscode": {
          "languageId": "r"
        }
      },
      "outputs": [],
      "source": [
        "# Entreno el modelo\n",
        "\n",
        "modelo <- rpart(formula= \"clase_ternaria ~ .\",\n",
        "  data= dataset,\n",
        "  model= TRUE,\n",
        "  xval= 0,\n",
        "  control= PARAM$rpart\n",
        ")\n"
      ]
    },
    {
      "cell_type": "code",
      "execution_count": 9,
      "metadata": {
        "id": "ZwDgjmrC5Yal",
        "vscode": {
          "languageId": "r"
        }
      },
      "outputs": [
        {
          "data": {
            "text/html": [
              "<strong>pdf:</strong> 2"
            ],
            "text/latex": [
              "\\textbf{pdf:} 2"
            ],
            "text/markdown": [
              "**pdf:** 2"
            ],
            "text/plain": [
              "pdf \n",
              "  2 "
            ]
          },
          "metadata": {},
          "output_type": "display_data"
        }
      ],
      "source": [
        "# genero un pdf con el dibujo del arbol\n",
        "\n",
        "pdf(file = \"arbol_canaritos.pdf\", width=28, height=4)\n",
        "prp(modelo, extra=101, digits=5, branch=1, type=4, varlen=0, faclen=0)\n",
        "dev.off()"
      ]
    },
    {
      "cell_type": "markdown",
      "metadata": {
        "id": "26LBeK-I5k5c"
      },
      "source": [
        "vaya a su Google Drive\n",
        "<br> busque la carpeta **My Drive / dm / exp / exp5200**\n",
        "<br> baje el archivo **arbol_canaritos.pdf**  a su laptop\n",
        "<br> abra el .pdf con el Acrobat Reader\n",
        "<br> y dentro del .pdf busque splits hechos en alguna de las nuevas variables canaritos"
      ]
    },
    {
      "cell_type": "markdown",
      "metadata": {
        "id": "b4U52Ihb-14p"
      },
      "source": [
        "\n",
        "\n",
        "---\n",
        "\n"
      ]
    },
    {
      "cell_type": "markdown",
      "metadata": {
        "id": "qoFpyWI0-14p"
      },
      "source": [
        "## 5.3 rpart  Canaritos desconfiados"
      ]
    },
    {
      "cell_type": "markdown",
      "metadata": {
        "id": "I8FK-RWE_oW7"
      },
      "source": [
        "Esta parte se debe correr con el runtime en lenguaje **R** Ir al menu, Runtime -> Change Runtime Type -> Runtime type -> R"
      ]
    },
    {
      "cell_type": "markdown",
      "metadata": {
        "id": "NZtBtrs0_oW7"
      },
      "source": [
        "limpio el ambiente de R"
      ]
    },
    {
      "cell_type": "code",
      "execution_count": 10,
      "metadata": {
        "id": "lKr5vmvF_oW7",
        "vscode": {
          "languageId": "r"
        }
      },
      "outputs": [
        {
          "data": {
            "text/html": [
              "<table class=\"dataframe\">\n",
              "<caption>A matrix: 2 × 6 of type dbl</caption>\n",
              "<thead>\n",
              "\t<tr><th></th><th scope=col>used</th><th scope=col>(Mb)</th><th scope=col>gc trigger</th><th scope=col>(Mb)</th><th scope=col>max used</th><th scope=col>(Mb)</th></tr>\n",
              "</thead>\n",
              "<tbody>\n",
              "\t<tr><th scope=row>Ncells</th><td> 790805</td><td>42.3</td><td>  1439362</td><td>  76.9</td><td>  1439362</td><td>  76.9</td></tr>\n",
              "\t<tr><th scope=row>Vcells</th><td>1561394</td><td>12.0</td><td>172304873</td><td>1314.6</td><td>215359942</td><td>1643.1</td></tr>\n",
              "</tbody>\n",
              "</table>\n"
            ],
            "text/latex": [
              "A matrix: 2 × 6 of type dbl\n",
              "\\begin{tabular}{r|llllll}\n",
              "  & used & (Mb) & gc trigger & (Mb) & max used & (Mb)\\\\\n",
              "\\hline\n",
              "\tNcells &  790805 & 42.3 &   1439362 &   76.9 &   1439362 &   76.9\\\\\n",
              "\tVcells & 1561394 & 12.0 & 172304873 & 1314.6 & 215359942 & 1643.1\\\\\n",
              "\\end{tabular}\n"
            ],
            "text/markdown": [
              "\n",
              "A matrix: 2 × 6 of type dbl\n",
              "\n",
              "| <!--/--> | used | (Mb) | gc trigger | (Mb) | max used | (Mb) |\n",
              "|---|---|---|---|---|---|---|\n",
              "| Ncells |  790805 | 42.3 |   1439362 |   76.9 |   1439362 |   76.9 |\n",
              "| Vcells | 1561394 | 12.0 | 172304873 | 1314.6 | 215359942 | 1643.1 |\n",
              "\n"
            ],
            "text/plain": [
              "       used    (Mb) gc trigger (Mb)   max used  (Mb)  \n",
              "Ncells  790805 42.3   1439362    76.9   1439362   76.9\n",
              "Vcells 1561394 12.0 172304873  1314.6 215359942 1643.1"
            ]
          },
          "metadata": {},
          "output_type": "display_data"
        }
      ],
      "source": [
        "# limpio la memoria\n",
        "rm(list=ls(all.names=TRUE)) # remove all objects\n",
        "gc(full=TRUE, verbose=FALSE) # garbage collection"
      ]
    },
    {
      "cell_type": "code",
      "execution_count": 11,
      "metadata": {
        "id": "znljkzcy_oW8",
        "vscode": {
          "languageId": "r"
        }
      },
      "outputs": [],
      "source": [
        "# cargo las librerias que necesito\n",
        "require(\"data.table\")\n",
        "require(\"rpart\")\n",
        "if(!require(\"rpart.plot\")) install.packages(\"rpart.plot\")\n",
        "require(\"rpart.plot\")"
      ]
    },
    {
      "cell_type": "markdown",
      "metadata": {
        "id": "JuTHR5-z_oW8"
      },
      "source": [
        "Aqui debe cargar SU semilla primigenia y\n",
        "<br> parametros de un@ alumn@ desconfiad@"
      ]
    },
    {
      "cell_type": "code",
      "execution_count": null,
      "metadata": {
        "id": "m93vR2RM_oW9",
        "vscode": {
          "languageId": "r"
        }
      },
      "outputs": [],
      "source": [
        "PARAM <- list()\n",
        "PARAM$semilla_primigenia <- 107827\n",
        "\n",
        "PARAM$rpart$cp <- -1\n",
        "PARAM$rpart$minsplit <- 2000\n",
        "PARAM$rpart$minbucket <- 800\n",
        "PARAM$rpart$maxdepth <- 6"
      ]
    },
    {
      "cell_type": "code",
      "execution_count": null,
      "metadata": {
        "id": "V6QKBQpd_oW9",
        "vscode": {
          "languageId": "r"
        }
      },
      "outputs": [],
      "source": [
        "# carpeta de trabajo\n",
        "setwd(\"/content/buckets/b1/exp\")\n",
        "experimento <- \"exp5300\"\n",
        "dir.create(experimento, showWarnings=FALSE)\n",
        "setwd( paste0(\"/content/buckets/b1/exp/\", experimento ))"
      ]
    },
    {
      "cell_type": "code",
      "execution_count": null,
      "metadata": {
        "id": "Tmo3V3YM_oW-",
        "vscode": {
          "languageId": "r"
        }
      },
      "outputs": [],
      "source": [
        "# lectura del dataset\n",
        "dataset <- fread(\"/content/datasets/dataset_pequeno.csv\")"
      ]
    },
    {
      "cell_type": "code",
      "execution_count": null,
      "metadata": {
        "id": "pk6-z0eB_oW-",
        "vscode": {
          "languageId": "r"
        }
      },
      "outputs": [],
      "source": [
        "# me quedo solo con los datos de julio\n",
        "dataset <- dataset[ foto_mes==202107,]"
      ]
    },
    {
      "cell_type": "code",
      "execution_count": null,
      "metadata": {
        "id": "zBwO5Im-_oW-",
        "vscode": {
          "languageId": "r"
        }
      },
      "outputs": [],
      "source": [
        "# uso esta semilla para los canaritos\n",
        "set.seed(PARAM$semila_primigenia)\n",
        "\n",
        "# agrego los siguientes canaritos\n",
        "for( i in 1:154 ) dataset[ , paste0(\"canarito\", i ) :=  runif( nrow(dataset)) ]"
      ]
    },
    {
      "cell_type": "code",
      "execution_count": null,
      "metadata": {
        "id": "2aNvTGxC_oW_",
        "vscode": {
          "languageId": "r"
        }
      },
      "outputs": [],
      "source": [
        "# Entreno el modelo\n",
        "\n",
        "modelo <- rpart(formula= \"clase_ternaria ~ .\",\n",
        "  data= dataset,\n",
        "  model= TRUE,\n",
        "  xval= 0,\n",
        "  control= PARAM$rpart\n",
        ")\n"
      ]
    },
    {
      "cell_type": "code",
      "execution_count": null,
      "metadata": {
        "id": "fkNkZX55_oW_",
        "vscode": {
          "languageId": "r"
        }
      },
      "outputs": [],
      "source": [
        "# genero un pdf con el dibujo del arbol\n",
        "\n",
        "pdf(file = \"arbol_canaritos_desconfiados.pdf\", width=28, height=4)\n",
        "prp(modelo, extra=101, digits=5, branch=1, type=4, varlen=0, faclen=0)\n",
        "dev.off()"
      ]
    },
    {
      "cell_type": "markdown",
      "metadata": {
        "id": "ShnFSpwk_oXA"
      },
      "source": [
        "vaya a su Google Drive\n",
        "<br> busque la carpeta **My Drive /  dm / exp / exp5300**\n",
        "<br> baje el archivo **arbol_canaritos_desconfiados.pdf**  a su laptop\n",
        "<br> abra el .pdf con el Acrobat Reader\n",
        "<br> y dentro del .pdf busque splits hecho en alguna de las nuevas variables canaritos"
      ]
    },
    {
      "cell_type": "markdown",
      "metadata": {
        "id": "eBXaseNMCPRS"
      },
      "source": [
        "\n",
        "\n",
        "---\n",
        "\n"
      ]
    },
    {
      "cell_type": "markdown",
      "metadata": {
        "id": "2W4cujFXCPRS"
      },
      "source": [
        "## 5.4 rpart  Canaritos pruning"
      ]
    },
    {
      "cell_type": "markdown",
      "metadata": {
        "id": "eSU5vi00CPRS"
      },
      "source": [
        "Esta parte se debe correr con el runtime en lenguaje **R** Ir al menu, Runtime -> Change Runtime Type -> Runtime type -> R"
      ]
    },
    {
      "cell_type": "markdown",
      "metadata": {
        "id": "Zq8dySimCPRT"
      },
      "source": [
        "limpio el ambiente de R"
      ]
    },
    {
      "cell_type": "code",
      "execution_count": 12,
      "metadata": {
        "id": "1iE0U4_WCPRT",
        "vscode": {
          "languageId": "r"
        }
      },
      "outputs": [
        {
          "data": {
            "text/html": [
              "<table class=\"dataframe\">\n",
              "<caption>A matrix: 2 × 6 of type dbl</caption>\n",
              "<thead>\n",
              "\t<tr><th></th><th scope=col>used</th><th scope=col>(Mb)</th><th scope=col>gc trigger</th><th scope=col>(Mb)</th><th scope=col>max used</th><th scope=col>(Mb)</th></tr>\n",
              "</thead>\n",
              "<tbody>\n",
              "\t<tr><th scope=row>Ncells</th><td> 790803</td><td>42.3</td><td>  1439362</td><td>  76.9</td><td>  1439362</td><td>  76.9</td></tr>\n",
              "\t<tr><th scope=row>Vcells</th><td>1559320</td><td>11.9</td><td>137843899</td><td>1051.7</td><td>215359942</td><td>1643.1</td></tr>\n",
              "</tbody>\n",
              "</table>\n"
            ],
            "text/latex": [
              "A matrix: 2 × 6 of type dbl\n",
              "\\begin{tabular}{r|llllll}\n",
              "  & used & (Mb) & gc trigger & (Mb) & max used & (Mb)\\\\\n",
              "\\hline\n",
              "\tNcells &  790803 & 42.3 &   1439362 &   76.9 &   1439362 &   76.9\\\\\n",
              "\tVcells & 1559320 & 11.9 & 137843899 & 1051.7 & 215359942 & 1643.1\\\\\n",
              "\\end{tabular}\n"
            ],
            "text/markdown": [
              "\n",
              "A matrix: 2 × 6 of type dbl\n",
              "\n",
              "| <!--/--> | used | (Mb) | gc trigger | (Mb) | max used | (Mb) |\n",
              "|---|---|---|---|---|---|---|\n",
              "| Ncells |  790803 | 42.3 |   1439362 |   76.9 |   1439362 |   76.9 |\n",
              "| Vcells | 1559320 | 11.9 | 137843899 | 1051.7 | 215359942 | 1643.1 |\n",
              "\n"
            ],
            "text/plain": [
              "       used    (Mb) gc trigger (Mb)   max used  (Mb)  \n",
              "Ncells  790803 42.3   1439362    76.9   1439362   76.9\n",
              "Vcells 1559320 11.9 137843899  1051.7 215359942 1643.1"
            ]
          },
          "metadata": {},
          "output_type": "display_data"
        }
      ],
      "source": [
        "# limpio la memoria\n",
        "rm(list=ls(all.names=TRUE)) # remove all objects\n",
        "gc(full=TRUE, verbose=FALSE) # garbage collection"
      ]
    },
    {
      "cell_type": "code",
      "execution_count": 13,
      "metadata": {
        "id": "BJDwdD0dCPRU",
        "vscode": {
          "languageId": "r"
        }
      },
      "outputs": [],
      "source": [
        "# cargo las librerias que necesito\n",
        "require(\"data.table\")\n",
        "require(\"rpart\")\n",
        "if(!require(\"rpart.plot\")) install.packages(\"rpart.plot\")\n",
        "require(\"rpart.plot\")"
      ]
    },
    {
      "cell_type": "markdown",
      "metadata": {
        "id": "M8-Pyp6CCPRU"
      },
      "source": [
        "Aqui debe cargar SU semilla primigenia"
      ]
    },
    {
      "cell_type": "code",
      "execution_count": 14,
      "metadata": {
        "id": "peRH7ySLCPRV",
        "vscode": {
          "languageId": "r"
        }
      },
      "outputs": [],
      "source": [
        "PARAM <- list()\n",
        "PARAM$semilla_primigenia <- 107827\n",
        "\n",
        "# Dejo crecer el arbol sin ninguna limitacion\n",
        "# sin limite de altura ( 30 es el maximo que permite rpart )\n",
        "# sin limite de minsplit ( 2 es el minimo natural )\n",
        "# sin limite de minbukcet( 1 es el minimo natural )\n",
        "# ya aprendimos que cp debe ser negativo\n",
        "PARAM$rpart$cp <- -1\n",
        "PARAM$rpart$minsplit <- 2\n",
        "PARAM$rpart$minbucket <- 1\n",
        "PARAM$rpart$maxdepth <- 30"
      ]
    },
    {
      "cell_type": "code",
      "execution_count": 15,
      "metadata": {
        "id": "1gZD6ZMvCPRV",
        "vscode": {
          "languageId": "r"
        }
      },
      "outputs": [],
      "source": [
        "# carpeta de trabajo\n",
        "setwd(\"/content/buckets/b1/exp\")\n",
        "experimento <- \"exp5400\"\n",
        "dir.create(experimento, showWarnings=FALSE)\n",
        "setwd( paste0(\"/content/buckets/b1/exp/\", experimento ))"
      ]
    },
    {
      "cell_type": "code",
      "execution_count": 16,
      "metadata": {
        "id": "Xi0emX2ECPRV",
        "vscode": {
          "languageId": "r"
        }
      },
      "outputs": [],
      "source": [
        "# lectura del dataset\n",
        "dataset <- fread(\"/content/datasets/dataset_pequeno.csv\")"
      ]
    },
    {
      "cell_type": "code",
      "execution_count": 17,
      "metadata": {
        "id": "xlO-EJ9TCPRW",
        "vscode": {
          "languageId": "r"
        }
      },
      "outputs": [],
      "source": [
        "# uso esta semilla para los canaritos\n",
        "set.seed(PARAM$semila_primigenia)\n",
        "\n",
        "# agrego los siguientes canaritos\n",
        "for( i in 1:155 ) dataset[ , paste0(\"canarito\", i ) :=  runif( nrow(dataset)) ]"
      ]
    },
    {
      "cell_type": "code",
      "execution_count": 18,
      "metadata": {
        "id": "vjoJrP6ED9k2",
        "vscode": {
          "languageId": "r"
        }
      },
      "outputs": [],
      "source": [
        "# datos de training\n",
        "dtrain <- dataset[foto_mes == 202107]"
      ]
    },
    {
      "cell_type": "code",
      "execution_count": 19,
      "metadata": {
        "id": "---sF8QNDHC5",
        "vscode": {
          "languageId": "r"
        }
      },
      "outputs": [],
      "source": [
        "# clase binaria\n",
        "dtrain[, clase_binaria2 := ifelse( clase_ternaria==\"CONTINUA\", \"NEG\", \"POS\" ) ]\n",
        "dtrain[, clase_ternaria := NULL ]"
      ]
    },
    {
      "cell_type": "code",
      "execution_count": 20,
      "metadata": {
        "id": "iAiaCs-MCPRX",
        "vscode": {
          "languageId": "r"
        }
      },
      "outputs": [],
      "source": [
        "# Entreno el modelo\n",
        "pesos <- dtrain[, ifelse( clase_binaria2==\"POS\", 5.0, 1.0 ) ]\n",
        "\n",
        "modelo_original <- rpart(formula= \"clase_binaria2 ~ .\",\n",
        "  data= dtrain,\n",
        "  model= TRUE,\n",
        "  xval= 0,\n",
        "  control= PARAM$rpart,\n",
        "  weights= pesos\n",
        ")\n"
      ]
    },
    {
      "cell_type": "code",
      "execution_count": 21,
      "metadata": {
        "id": "KMTIZypiEW2Q",
        "vscode": {
          "languageId": "r"
        }
      },
      "outputs": [],
      "source": [
        "# hago el pruning de los canaritos\n",
        "# haciendo un hackeo a la estructura  modelo_original$frame\n",
        "# -666 es un valor arbritrariamente negativo que jamas es generado por rpart\n",
        "\n",
        "modelo_original$frame[\n",
        "    modelo_original$frame$var %like% \"canarito\",\n",
        "    \"complexity\"\n",
        "] <- -666\n",
        "\n",
        "modelo_pruned <- prune(modelo_original, -666)"
      ]
    },
    {
      "cell_type": "code",
      "execution_count": 22,
      "metadata": {
        "id": "nkWKeM8NCPRX",
        "vscode": {
          "languageId": "r"
        }
      },
      "outputs": [
        {
          "data": {
            "text/html": [
              "<strong>pdf:</strong> 2"
            ],
            "text/latex": [
              "\\textbf{pdf:} 2"
            ],
            "text/markdown": [
              "**pdf:** 2"
            ],
            "text/plain": [
              "pdf \n",
              "  2 "
            ]
          },
          "metadata": {},
          "output_type": "display_data"
        }
      ],
      "source": [
        "# genero un pdf con el dibujo del arbol\n",
        "\n",
        "pdf(file = \"stopping_at_canaritos.pdf\", width=28, height=4)\n",
        "prp(modelo_pruned, extra=101, digits=5, branch=1, type=4, varlen=0, faclen=0)\n",
        "dev.off()"
      ]
    },
    {
      "cell_type": "code",
      "execution_count": 23,
      "metadata": {
        "id": "UGvhzyNdFBZn",
        "vscode": {
          "languageId": "r"
        }
      },
      "outputs": [],
      "source": [
        "# datos del futuro\n",
        "dfuture <- dataset[foto_mes == 202109]"
      ]
    },
    {
      "cell_type": "code",
      "execution_count": 24,
      "metadata": {
        "id": "eczNdwVOFGoW",
        "vscode": {
          "languageId": "r"
        }
      },
      "outputs": [],
      "source": [
        "# scoring, aplico el modelo a los datos del futuro\n",
        "prediccion <- predict(modelo_pruned,\n",
        "  dfuture,\n",
        "  type= \"prob\"\n",
        ")"
      ]
    },
    {
      "cell_type": "code",
      "execution_count": 25,
      "metadata": {
        "id": "yQmrMJd_FUpd",
        "vscode": {
          "languageId": "r"
        }
      },
      "outputs": [],
      "source": [
        "# tabla prediccion\n",
        "tb_prediccion <- as.data.table(list(\n",
        "  \"numero_de_cliente\" = dfuture$numero_de_cliente,\n",
        "  \"prob\"=prediccion[, \"POS\"]\n",
        "))"
      ]
    },
    {
      "cell_type": "code",
      "execution_count": 26,
      "metadata": {
        "id": "3H54yHfDFlC6",
        "vscode": {
          "languageId": "r"
        }
      },
      "outputs": [],
      "source": [
        "# Decison\n",
        "setorder( tb_prediccion, -prob )\n",
        "tb_prediccion[ , Predicted := 0L ]\n",
        "tb_prediccion[ 1:11000, Predicted := 1L ]\n"
      ]
    },
    {
      "cell_type": "code",
      "execution_count": 27,
      "metadata": {
        "id": "L-kS6BKNGRP8",
        "vscode": {
          "languageId": "r"
        }
      },
      "outputs": [],
      "source": [
        "# archivo para kaggle\n",
        "archivo_kaggle <- \"K5400_001.csv\"\n",
        "\n",
        "fwrite( tb_prediccion[, list(numero_de_cliente, Predicted)],\n",
        "  file= archivo_kaggle,\n",
        "  sep= \",\"\n",
        ")"
      ]
    },
    {
      "cell_type": "code",
      "execution_count": 28,
      "metadata": {
        "id": "l9K2m5CmF47o",
        "vscode": {
          "languageId": "r"
        }
      },
      "outputs": [],
      "source": [
        "# subida a Kaggle\n",
        "comando <- \"kaggle competitions submit\"\n",
        "competencia <- \"-c labo-i-2025-ba-analista-sr\"\n",
        "arch <- paste( \"-f\", archivo_kaggle)"
      ]
    },
    {
      "cell_type": "code",
      "execution_count": 29,
      "metadata": {
        "id": "vtaQvc7rGoEQ",
        "vscode": {
          "languageId": "r"
        }
      },
      "outputs": [],
      "source": [
        "mensaje <- paste0(\"-m 'cp=\", PARAM$rpart$cp, \"  minsplit=\", PARAM$rpart$minsplit, \"  minbucket=\", PARAM$rpart$minbucket, \" maxdepth=\", PARAM$rpart$maxdepth, \"'\" )"
      ]
    },
    {
      "cell_type": "code",
      "execution_count": 30,
      "metadata": {
        "id": "gAyktvNRHKlo",
        "vscode": {
          "languageId": "r"
        }
      },
      "outputs": [
        {
          "data": {
            "text/html": [
              "<span style=white-space:pre-wrap>'kaggle competitions submit -c labo-i-2025-ba-analista-sr -f K5400_001.csv -m \\'cp=-1  minsplit=2  minbucket=1 maxdepth=30\\''</span>"
            ],
            "text/latex": [
              "'kaggle competitions submit -c labo-i-2025-ba-analista-sr -f K5400\\_001.csv -m \\textbackslash{}'cp=-1  minsplit=2  minbucket=1 maxdepth=30\\textbackslash{}''"
            ],
            "text/markdown": [
              "<span style=white-space:pre-wrap>'kaggle competitions submit -c labo-i-2025-ba-analista-sr -f K5400_001.csv -m \\'cp=-1  minsplit=2  minbucket=1 maxdepth=30\\''</span>"
            ],
            "text/plain": [
              "[1] \"kaggle competitions submit -c labo-i-2025-ba-analista-sr -f K5400_001.csv -m 'cp=-1  minsplit=2  minbucket=1 maxdepth=30'\""
            ]
          },
          "metadata": {},
          "output_type": "display_data"
        }
      ],
      "source": [
        "linea <- paste( comando, competencia, arch, mensaje)\n",
        "\n",
        "# este es el comando que correria desde el prompt de Linux\n",
        "linea"
      ]
    },
    {
      "cell_type": "code",
      "execution_count": 31,
      "metadata": {
        "id": "zOL74XsmHXNm",
        "vscode": {
          "languageId": "r"
        }
      },
      "outputs": [
        {
          "name": "stdout",
          "output_type": "stream",
          "text": [
            "Successfully submitted to LaboI 2025 BA analista sr"
          ]
        }
      ],
      "source": [
        "# ejecuto el comando\n",
        "salida <- system(linea, intern=TRUE)\n",
        "cat(salida)"
      ]
    },
    {
      "cell_type": "markdown",
      "metadata": {
        "id": "RzZj6LXmCPRY"
      },
      "source": [
        "vaya a su Google Drive\n",
        "<br> busque la carpeta **My Drive /  dm / exp / exp5400**\n",
        "<br> baje el archivo **stopping_at_canaritos.pdf**  a su laptop\n",
        "<br> abra el .pdf con el Acrobat Reader\n"
      ]
    },
    {
      "cell_type": "markdown",
      "metadata": {
        "id": "L5fq_POOvEns"
      },
      "source": [
        "\n",
        "\n",
        "---\n",
        "\n"
      ]
    }
  ],
  "metadata": {
    "colab": {
      "provenance": []
    },
    "kernelspec": {
      "display_name": "R",
      "language": "R",
      "name": "ir"
    },
    "language_info": {
      "codemirror_mode": "r",
      "file_extension": ".r",
      "mimetype": "text/x-r-source",
      "name": "R",
      "pygments_lexer": "r",
      "version": "4.4.3"
    }
  },
  "nbformat": 4,
  "nbformat_minor": 0
}
